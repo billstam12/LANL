{
 "cells": [
  {
   "cell_type": "code",
   "execution_count": 48,
   "metadata": {
    "collapsed": true
   },
   "outputs": [],
   "source": [
    "import numpy as np\n",
    "import pandas as pd\n",
    "import math\n",
    "import os.path\n",
    "import time\n",
    "%matplotlib inline\n",
    "import matplotlib.pyplot as plt"
   ]
  },
  {
   "cell_type": "code",
   "execution_count": 4,
   "metadata": {
    "collapsed": true
   },
   "outputs": [],
   "source": [
    "df1 = pd.read_csv(\"dataset/train.csv\")"
   ]
  },
  {
   "cell_type": "code",
   "execution_count": 12,
   "metadata": {},
   "outputs": [],
   "source": [
    "#Euresh prwtou seismou = 5656573\n",
    "for i in range (0,len(df1.time_to_failure)):\n",
    "    if df1.time_to_failure[i]<df1.time_to_failure[i+1]:\n",
    "        print(i)"
   ]
  },
  {
   "cell_type": "code",
   "execution_count": 43,
   "metadata": {},
   "outputs": [],
   "source": [
    "dts=np.array([p.ttf[i]-p.ttf[i-1] for i  in range(1,5656573)])\n",
    "dts"
   ]
  },
  {
   "cell_type": "code",
   "execution_count": 50,
   "metadata": {},
   "outputs": [],
   "source": [
    "plt.figure(figsize=(10, 20))\n",
    "plt.hist(dts)\n",
    "plt.savefig(\"out.png\")\n"
   ]
  },
  {
   "cell_type": "code",
   "execution_count": 52,
   "metadata": {
    "collapsed": true
   },
   "outputs": [],
   "source": [
    "from scipy.interpolate import interp1d\n"
   ]
  },
  {
   "cell_type": "code",
   "execution_count": 163,
   "metadata": {},
   "outputs": [],
   "source": [
    "#Κάνω column σε lists\n",
    "s1 = df1[\"acoustic_data\"].values[:5656573]\n",
    "t1 = df1[\"time_to_failure\"].values[:5656573]\n",
    "#Αντιστροφη χρόνου (fuck entropy)\n",
    "t1.sort()\n"
   ]
  },
  {
   "cell_type": "code",
   "execution_count": 164,
   "metadata": {},
   "outputs": [],
   "source": [
    "dt=t1[5000]-t1[4999] #Χρονική διαφορά ανάμεσα σε δύο παρατηρήσεις (δεκαδική μορφή)\n",
    "freq=np.fft.fftfreq(5656573,d=dt) \n",
    "fs=np.abs(np.fft.fft(s1))/5656573\n",
    "plt.plot(1./freq[freq>0],fs[freq>0])\n",
    "plt.xlim(None,3.000509481760366e-07)"
   ]
  },
  {
   "cell_type": "code",
   "execution_count": 165,
   "metadata": {},
   "outputs": [],
   "source": [
    "Maxf= 1./freq[fs[freq>0].argmax()] #Υπολόγισε τη περίοδο για την οποία έχουμε μέγιστο\n",
    "Maxf"
   ]
  },
  {
   "cell_type": "code",
   "execution_count": 209,
   "metadata": {},
   "outputs": [],
   "source": [
    "#CHUNKS\n",
    "n = 100000\n",
    "t = [t1[i * n:(i + 1) * n] for i in range((len(t1) + n - 1) // n )]  \n",
    "s = [s1[i * n:(i + 1) * n] for i in range((len(s1) + n - 1) // n )]  \n"
   ]
  },
  {
   "cell_type": "code",
   "execution_count": 210,
   "metadata": {},
   "outputs": [],
   "source": [
    "FR=[]\n",
    "Ind=[]\n",
    "for i in range(0,len(t)-1):\n",
    "    freq=np.fft.fftfreq(len(t[i]),d=dt) \n",
    "    fs=np.abs(np.fft.fft(s[i]))/len(t[i])\n",
    "    Maxf= 1./freq[fs[freq>0].argmax()]\n",
    "    FR.append(Maxf)\n",
    "    Ind.append(i)\n"
   ]
  },
  {
   "cell_type": "code",
   "execution_count": 211,
   "metadata": {},
   "outputs": [],
   "source": [
    "plt.ylim(9.000509481760366e-09,6.000509481760366e-08)\n",
    "plt.plot(Ind,FR)"
   ]
  },
  {
   "cell_type": "code",
   "execution_count": null,
   "metadata": {
    "collapsed": true
   },
   "outputs": [],
   "source": []
  },
  {
   "cell_type": "code",
   "execution_count": null,
   "metadata": {
    "collapsed": true
   },
   "outputs": [],
   "source": []
  },
  {
   "cell_type": "code",
   "execution_count": null,
   "metadata": {
    "collapsed": true
   },
   "outputs": [],
   "source": []
  },
  {
   "cell_type": "code",
   "execution_count": null,
   "metadata": {
    "collapsed": true
   },
   "outputs": [],
   "source": []
  },
  {
   "cell_type": "code",
   "execution_count": null,
   "metadata": {
    "collapsed": true
   },
   "outputs": [],
   "source": []
  },
  {
   "cell_type": "code",
   "execution_count": null,
   "metadata": {
    "collapsed": true
   },
   "outputs": [],
   "source": []
  },
  {
   "cell_type": "code",
   "execution_count": 112,
   "metadata": {},
   "outputs": [],
   "source": [
    "s2=interp1d(s1,t1) #Δημιουργία ενος interpolated \"συνεχούς\" σήματος με βάση τα δεδομένα \n",
    "t2=np.linspace(t1[0],t1[-1],5656573 ) #Δημιουργία ενός \"συνεχούς\" ισοχρονικών διαστημάτων\n"
   ]
  },
  {
   "cell_type": "code",
   "execution_count": 120,
   "metadata": {},
   "outputs": [],
   "source": [
    "s2(t2)\n"
   ]
  },
  {
   "cell_type": "code",
   "execution_count": 119,
   "metadata": {},
   "outputs": [],
   "source": [
    "s2(t2)\n",
    "plt.plot(t2,s2(t2))"
   ]
  },
  {
   "cell_type": "code",
   "execution_count": 114,
   "metadata": {},
   "outputs": [],
   "source": [
    "dts2=[t2[i]-t2[i-1] for i  in range(1,5656573)]\n",
    "plt.plot(dts2)"
   ]
  },
  {
   "cell_type": "code",
   "execution_count": 115,
   "metadata": {},
   "outputs": [],
   "source": [
    "dt=t2[4]-t2[3]\n",
    "print(dt)\n",
    "freq=np.fft.fftfreq(5656573,d=dt)\n",
    "fs=np.abs(np.fft.fft(s2(t1)))/s1.shape[0]\n",
    "plt.plot(1./freq[freq>0],fs[freq>0])\n",
    "print(1./freq[fs[freq>0].argmax()])"
   ]
  },
  {
   "cell_type": "code",
   "execution_count": null,
   "metadata": {
    "collapsed": true
   },
   "outputs": [],
   "source": []
  }
 ],
 "metadata": {
  "kernelspec": {
   "display_name": "Python 3",
   "language": "python",
   "name": "python3"
  },
  "language_info": {
   "codemirror_mode": {
    "name": "ipython",
    "version": 3
   },
   "file_extension": ".py",
   "mimetype": "text/x-python",
   "name": "python",
   "nbconvert_exporter": "python",
   "pygments_lexer": "ipython3",
   "version": "3.5.6"
  }
 },
 "nbformat": 4,
 "nbformat_minor": 1
}
