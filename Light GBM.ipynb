{
 "cells": [
  {
   "cell_type": "code",
   "execution_count": 1,
   "metadata": {},
   "outputs": [],
   "source": [
    "import numpy as np\n",
    "import pandas as pd\n",
    "import os\n",
    "import lightgbm as lgb\n",
    "import xgboost as xgb\n",
    "import time\n",
    "from sklearn.kernel_ridge import KernelRidge\n",
    "import datetime\n",
    "from catboost import CatBoostRegressor\n",
    "from sklearn.preprocessing import LabelEncoder, StandardScaler\n",
    "from sklearn.model_selection import StratifiedKFold, KFold, RepeatedKFold\n",
    "from sklearn.metrics import mean_absolute_error\n",
    "from gplearn.genetic import SymbolicRegressor\n",
    "from sklearn.ensemble import ExtraTreesRegressor\n",
    "\n",
    "from sklearn.svm import NuSVR, SVR\n",
    "%matplotlib inline\n",
    "import matplotlib.pyplot as plt\n",
    "import seaborn as sns\n",
    "import eli5"
   ]
  },
  {
   "cell_type": "code",
   "execution_count": 2,
   "metadata": {},
   "outputs": [],
   "source": [
    "lgb_params = {'bagging_fraction': 0.8200000000000001,\n",
    " 'boosting': 'goss',\n",
    " 'feature_fraction': 0.6900000000000001,\n",
    " 'lambda_l1': 2.767537387330119,\n",
    " 'lambda_l2': 0.3565483800938233,\n",
    " 'learning_rate': 0.1426787777244699,\n",
    " 'max_bin': 164,\n",
    " 'max_depth': 13,\n",
    " 'metric': 'RMSE',\n",
    " 'min_data_in_bin': 56,\n",
    " 'min_data_in_leaf': 6,\n",
    " 'min_gain_to_split': 3.42,\n",
    " 'num_leaves': 1735,\n",
    " 'objective': 'huber',\n",
    " 'other_rate': 0.3000520182613355,\n",
    " 'top_rate': 0.2514679376182475}\n"
   ]
  },
  {
   "cell_type": "code",
   "execution_count": 3,
   "metadata": {},
   "outputs": [],
   "source": [
    "n_fold = 5\n",
    "folds = KFold(n_splits=n_fold, shuffle=True, random_state=11)"
   ]
  },
  {
   "cell_type": "code",
   "execution_count": 4,
   "metadata": {},
   "outputs": [],
   "source": [
    "def createModel(X, y, X_test, cols, model = [], model_type = 'lgb', params = lgb_params, plot_feature_importance=True, ):       \n",
    "    regrs = []\n",
    "    oof_preds = np.zeros(len(X))\n",
    "    feature_importance = pd.DataFrame()\n",
    "    prediction = np.zeros(len(X_test))\n",
    "\n",
    "    for fold_, (trn_, val_) in enumerate(folds.split(y, y)):\n",
    "        y = y.ravel()\n",
    "        trn_x, trn_y = X[trn_], y[trn_]\n",
    "        val_x, val_y = X[val_], y[val_]\n",
    "        #scaler.fit(trn_x)\n",
    "        #scaler.transform(trn_x)\n",
    "        #scaler.transform(val_x)\n",
    "        fold_importance = pd.DataFrame()\n",
    "        \n",
    "        if model_type == 'lgb':\n",
    "            regr = lgb.LGBMRegressor(**params)\n",
    "            regr.fit(\n",
    "                trn_x, trn_y,\n",
    "                eval_set=[(trn_x, trn_y), (val_x, val_y)],\n",
    "                eval_metric='mae',\n",
    "                verbose=False,\n",
    "                early_stopping_rounds = 200\n",
    "            )\n",
    "            oof_preds[val_] = regr.predict(val_x)\n",
    "            print('fold',fold_+1,mean_absolute_error(val_y, regr.predict(val_x)))\n",
    "            y_pred = regr.predict(X_test, num_iteration=regr.best_iteration_)\n",
    "        \n",
    "        if model_type == 'xgb':\n",
    "            train_data = xgb.DMatrix(data=trn_x, label=trn_y, feature_names = cols)\n",
    "            valid_data = xgb.DMatrix(data=val_x, label=val_y, feature_names = cols)\n",
    "            \n",
    "            watchlist = [(train_data, 'train'), (valid_data, 'valid_data')]\n",
    "            regr = xgb.train(dtrain=train_data, num_boost_round=20000, evals=watchlist, early_stopping_rounds=200, verbose_eval=500, params=params)\n",
    "            oof_preds[val_] = regr.predict(xgb.DMatrix(val_x, feature_names = cols), ntree_limit=regr.best_ntree_limit)\n",
    "            print('fold',fold_+1,mean_absolute_error(val_y, regr.predict(xgb.DMatrix(val_x, feature_names = cols), ntree_limit=regr.best_ntree_limit)))\n",
    "            y_pred = regr.predict(xgb.DMatrix(X_test, feature_names = cols), ntree_limit=regr.best_ntree_limit)\n",
    "\n",
    "        if model_type == 'sklearn':\n",
    "            #regr = model\n",
    "            \n",
    "            etr = ExtraTreesRegressor(n_estimators=1000, max_depth=10)\n",
    "            etr.fit(trn_x, trn_y)\n",
    "            oof_preds[val_] = regr.predict(val_x).reshape(-1,)\n",
    "            print('fold',fold_+1,mean_absolute_error(val_y, regr.predict(val_x).reshape(-1,)))\n",
    "            y_pred = regr.predict(X_test).reshape(-1,)\n",
    "            \n",
    "            \n",
    "        if model_type == 'cat':\n",
    "            regr = CatBoostRegressor(  eval_metric='MAE', **params)\n",
    "            regr.fit(trn_x, trn_y, eval_set=(val_x, val_y), cat_features=[], use_best_model=True, verbose=False)\n",
    "\n",
    "            oof_preds[val_] = regr.predict(val_x)\n",
    "            print('fold',fold_+1,mean_absolute_error(val_y, regr.predict(val_x)))\n",
    "            y_pred = regr.predict(X_test)\n",
    "\n",
    "        \n",
    "        if model_type == 'lgb':        \n",
    "            fold_importance[\"feature\"] = cols\n",
    "            fold_importance[\"importance\"] = regr.feature_importances_\n",
    "            fold_importance[\"fold\"] = fold_ + 1\n",
    "            feature_importance = pd.concat([feature_importance, fold_importance], axis=0)\n",
    "        \n",
    "        if model_type == \"genetic\":\n",
    "            regr = SymbolicRegressor(population_size=10000,\n",
    "                               tournament_size=50,\n",
    "                               generations=100, #you can set a high number then use est_gp.set_params(generations= number<220) to stop evolution\n",
    "                               stopping_criteria=0.0,\n",
    "                               p_crossover=0.9, p_subtree_mutation=0.0001, p_hoist_mutation=0.0001, p_point_mutation=0.0001,\n",
    "                               max_samples=1.0, verbose=1,\n",
    "                               #function_set = ('add', 'sub', 'mul', 'div', gp_tanh, 'sqrt', 'log', 'abs', 'neg', 'inv','max', 'min', 'tan', 'cos', 'sin'),\n",
    "                               function_set = ('tan', 'add', 'sub', 'mul', 'div','max', 'min'),\n",
    "                               metric = 'mean absolute error', warm_start=True,\n",
    "                               n_jobs = -1, parsimony_coefficient=0.00003, random_state=11)\n",
    "            regr.fit(trn_x, trn_y)\n",
    "            oof_preds[val_] = regr.predict(val_x).reshape(-1,)\n",
    "            print('fold',fold_+1,mean_absolute_error(val_y, regr.predict(val_x)))\n",
    "            y_pred = regr.predict(X_test)\n",
    "\n",
    "        regrs.append(regr)\n",
    "        prediction += y_pred\n",
    "    loss = mean_absolute_error(y, oof_preds)\n",
    "    if ((model_type == 'lgb') & (plot_feature_importance == True)):\n",
    "        feature_importance[\"importance\"] /= n_fold\n",
    "        cols = feature_importance[[\"feature\", \"importance\"]].groupby(\"feature\").mean().sort_values(\n",
    "                by=\"importance\", ascending=False)[:50].index\n",
    "\n",
    "        best_features = feature_importance.loc[feature_importance.feature.isin(cols)]\n",
    "\n",
    "        plt.figure(figsize=(16, 12));\n",
    "        sns.barplot(x=\"importance\", y=\"feature\", data=best_features.sort_values(by=\"importance\", ascending=False));\n",
    "        plt.title('LGB Features (avg over folds)');\n",
    "        \n",
    "        return loss, regrs, feature_importance, prediction\n",
    "    prediction /= n_fold\n",
    "\n",
    "    return loss, regrs, prediction"
   ]
  },
  {
   "cell_type": "code",
   "execution_count": 5,
   "metadata": {},
   "outputs": [
    {
     "name": "stdout",
     "output_type": "stream",
     "text": [
      "fold 1 2.1604101229545902\n",
      "fold 2 1.9873293718354488\n",
      "fold 3 2.155904982809222\n",
      "fold 4 1.9745330586976948\n",
      "fold 5 2.0720869673738913\n"
     ]
    },
    {
     "name": "stderr",
     "output_type": "stream",
     "text": [
      "/home/stamstath96/anaconda3/lib/python3.5/site-packages/scipy/stats/stats.py:1857: FutureWarning: Using a non-tuple sequence for multidimensional indexing is deprecated; use `arr[tuple(seq)]` instead of `arr[seq]`. In the future this will be interpreted as an array index, `arr[np.array(seq)]`, which will result either in an error or a different result.\n",
      "  return np.add.reduce(sorted[indexer] * weights, axis=axis) / sumval\n"
     ]
    },
    {
     "data": {
      "image/png": "[encoded data removed]",
      "text/plain": [
       "<Figure size 1152x864 with 1 Axes>"
      ]
     },
     "metadata": {
      "needs_background": "light"
     },
     "output_type": "display_data"
    }
   ],
   "source": [
    "X_df = pd.read_csv('dataset/features_denoised.csv').drop([\"Unnamed: 0\", \"seg_id\", \"target\"], axis=1).replace([np.inf, -np.inf], np.nan)\n",
    "y_df = pd.read_csv('dataset/features_denoised.csv').target\n",
    "X_test_df = pd.read_csv(\"dataset/test_features_denoised.csv\").drop([\"Unnamed: 0\", \"seg_id\", \"target\"], axis = 1).replace([np.inf, -np.inf], np.nan)\n",
    "X = X_df.fillna(X_df.mean()).values\n",
    "y = y_df.fillna(y_df.mean()).values\n",
    "X_test = X_test_df.fillna(X_df.mean()).values\n",
    "\n",
    "oof_lgb, regrs, feature_importance, prediction = createModel(X, y, X_test, X_df.columns)\n"
   ]
  },
  {
   "cell_type": "code",
   "execution_count": 7,
   "metadata": {},
   "outputs": [
    {
     "name": "stderr",
     "output_type": "stream",
     "text": [
      "/home/stamstath96/anaconda3/lib/python3.5/site-packages/sklearn/preprocessing/data.py:645: DataConversionWarning: Data with input dtype bool, int64, float64 were all converted to float64 by StandardScaler.\n",
      "  return self.partial_fit(X, y)\n",
      "/home/stamstath96/anaconda3/lib/python3.5/site-packages/ipykernel_launcher.py:5: DataConversionWarning: Data with input dtype bool, int64, float64 were all converted to float64 by StandardScaler.\n",
      "  \"\"\"\n",
      "/home/stamstath96/anaconda3/lib/python3.5/site-packages/ipykernel_launcher.py:6: DataConversionWarning: Data with input dtype bool, int64, float64 were all converted to float64 by StandardScaler.\n",
      "  \n"
     ]
    }
   ],
   "source": [
    "from sklearn.neighbors import NearestNeighbors\n",
    "# Generate nearest neighbor features\n",
    "scaler = StandardScaler()\n",
    "scaler.fit(X_df)\n",
    "X_train_scaled = pd.DataFrame(scaler.transform(X_df), columns=X_df.columns).fillna(0)\n",
    "X_test_scaled = pd.DataFrame(scaler.transform(X_test_df), columns = X_test_df.columns).fillna(0)\n",
    "\n",
    "n = 10\n",
    "neigh = NearestNeighbors(n, n_jobs=-1)\n",
    "neigh.fit(X_train_scaled)\n",
    "\n",
    "dists, _ = neigh.kneighbors(X_train_scaled, n_neighbors=n)\n",
    "mean_dist = dists.mean(axis=1)\n",
    "max_dist = dists.max(axis=1)\n",
    "min_dist = dists.min(axis=1)\n",
    "\n",
    "X_train_scaled['mean_dist'] = mean_dist\n",
    "X_train_scaled['max_dist'] = max_dist\n",
    "X_train_scaled['min_dist'] = min_dist\n",
    "\n",
    "test_dists, _ = neigh.kneighbors(X_test_scaled, n_neighbors=n)\n",
    "\n",
    "test_mean_dist = test_dists.mean(axis=1)\n",
    "test_max_dist = test_dists.max(axis=1)\n",
    "test_min_dist = test_dists.min(axis=1)\n",
    "\n",
    "X_test_scaled['mean_dist'] = test_mean_dist\n",
    "X_test_scaled['max_dist'] = test_max_dist\n",
    "X_test_scaled['min_dist'] = test_min_dist\n",
    "top_cols = X_df.columns"
   ]
  },
  {
   "cell_type": "code",
   "execution_count": 9,
   "metadata": {},
   "outputs": [
    {
     "data": {
      "text/plain": [
       "['min_roll_std_100',\n",
       " 'min_roll_std_1000',\n",
       " 'max_roll_mean_1000',\n",
       " 'q05_roll_std_10',\n",
       " 'skew',\n",
       " 'min_roll_mean_1000',\n",
       " 'q05_roll_std_100',\n",
       " 'max_to_min',\n",
       " 'mean_change_rate_first_10000',\n",
       " 'q99_roll_mean_1000',\n",
       " 'std_roll_mean_100',\n",
       " 'av_change_abs_roll_mean_10',\n",
       " 'min_roll_std_10',\n",
       " 'q05_roll_std_1000',\n",
       " 'q01_roll_mean_1000',\n",
       " 'min_roll_mean_100',\n",
       " 'q01_roll_std_10',\n",
       " 'av_change_abs_roll_std_1000',\n",
       " 'std_last_10000',\n",
       " 'max_to_min_diff',\n",
       " 'avg_first_10000',\n",
       " 'q99_roll_std_1000',\n",
       " 'mean_change_rate',\n",
       " 'av_change_abs_roll_std_100',\n",
       " 'q01_roll_std_1000',\n",
       " 'av_change_abs_roll_std_10',\n",
       " 'q95_roll_mean_100',\n",
       " 'avg_first_50000',\n",
       " 'abs_max',\n",
       " 'av_change_abs_roll_mean_100',\n",
       " 'classic_sta_lta1_mean',\n",
       " 'q99_roll_mean_100',\n",
       " 'abs_mean',\n",
       " 'exp_Moving_average_30000_mean',\n",
       " 'avg_last_50000',\n",
       " 'mean_change_rate_first_50000',\n",
       " 'max_roll_mean_100',\n",
       " 'classic_sta_lta4_mean',\n",
       " 'q95_roll_mean_1000',\n",
       " 'mean_change_rate_last_10000',\n",
       " 'abs_max_roll_mean_10',\n",
       " 'max_roll_std_1000',\n",
       " 'classic_sta_lta6_mean',\n",
       " 'classic_sta_lta5_mean',\n",
       " 'max_roll_std_100',\n",
       " 'min_last_10000',\n",
       " 'abs_trend',\n",
       " 'kurt',\n",
       " 'q01_roll_std_100',\n",
       " 'av_change_rate_roll_mean_10']"
      ]
     },
     "execution_count": 9,
     "metadata": {},
     "output_type": "execute_result"
    }
   ],
   "source": [
    "top_cols = list(feature_importance[[\"feature\", \"importance\"]].groupby(\"feature\").mean().sort_values(\n",
    "                by=\"importance\", ascending=False)[:50].index)\n",
    "top_cols "
   ]
  },
  {
   "cell_type": "code",
   "execution_count": 8,
   "metadata": {},
   "outputs": [
    {
     "name": "stdout",
     "output_type": "stream",
     "text": [
      "fold 1 2.1604101229545902\n",
      "fold 2 1.9873293718354488\n",
      "fold 3 2.155904982809222\n",
      "fold 4 1.9745330586976948\n",
      "fold 5 2.0720869673738913\n"
     ]
    }
   ],
   "source": [
    "X_df = pd.read_csv('dataset/features_denoised.csv').drop([\"Unnamed: 0\", \"seg_id\", \"target\"], axis=1).replace([np.inf, -np.inf], np.nan)\n",
    "#X_df =  X_df[top_cols]\n",
    "y_df = pd.read_csv('dataset/features_denoised.csv').target\n",
    "X_test_df = pd.read_csv(\"dataset/test_features_denoised.csv\").drop([\"Unnamed: 0\", \"seg_id\", \"target\"], axis = 1).replace([np.inf, -np.inf], np.nan)\n",
    "X = X_df.fillna(X_df.mean()).values\n",
    "y = y_df.fillna(y_df.mean()).values\n",
    "X_test = X_test_df.fillna(X_df.mean()).values\n",
    "\n",
    "\n",
    "oof_lgb, lgb_regrs, lgb_predictions = createModel(X, y, X_test, X_df.columns, plot_feature_importance=False)\n"
   ]
  },
  {
   "cell_type": "code",
   "execution_count": 9,
   "metadata": {},
   "outputs": [
    {
     "data": {
      "text/plain": [
       "array([3.43834903, 5.64499759, 5.61507653, ..., 3.90001057, 1.60497266,\n",
       "       9.06155543])"
      ]
     },
     "execution_count": 9,
     "metadata": {},
     "output_type": "execute_result"
    }
   ],
   "source": [
    "lgb_predictions"
   ]
  },
  {
   "cell_type": "code",
   "execution_count": 10,
   "metadata": {},
   "outputs": [
    {
     "name": "stdout",
     "output_type": "stream",
     "text": [
      "[0]\ttrain-mae:4.25226\tvalid_data-mae:4.39064\n",
      "Multiple eval metrics have been passed: 'valid_data-mae' will be used for early stopping.\n",
      "\n",
      "Will train until valid_data-mae hasn't improved in 200 rounds.\n",
      "Stopping. Best iteration:\n",
      "[13]\ttrain-mae:1.8608\tvalid_data-mae:2.15621\n",
      "\n",
      "fold 1 2.156212083631076\n",
      "[0]\ttrain-mae:4.30568\tvalid_data-mae:4.14826\n",
      "Multiple eval metrics have been passed: 'valid_data-mae' will be used for early stopping.\n",
      "\n",
      "Will train until valid_data-mae hasn't improved in 200 rounds.\n",
      "Stopping. Best iteration:\n",
      "[10]\ttrain-mae:1.92861\tvalid_data-mae:2.03221\n",
      "\n",
      "fold 2 2.0322110488762033\n",
      "[0]\ttrain-mae:4.26563\tvalid_data-mae:4.32802\n",
      "Multiple eval metrics have been passed: 'valid_data-mae' will be used for early stopping.\n",
      "\n",
      "Will train until valid_data-mae hasn't improved in 200 rounds.\n",
      "Stopping. Best iteration:\n",
      "[13]\ttrain-mae:1.85609\tvalid_data-mae:2.17881\n",
      "\n",
      "fold 3 2.178805800109109\n",
      "[0]\ttrain-mae:4.28097\tvalid_data-mae:4.23508\n",
      "Multiple eval metrics have been passed: 'valid_data-mae' will be used for early stopping.\n",
      "\n",
      "Will train until valid_data-mae hasn't improved in 200 rounds.\n",
      "Stopping. Best iteration:\n",
      "[13]\ttrain-mae:1.89742\tvalid_data-mae:1.97573\n",
      "\n",
      "fold 4 1.9757335506054892\n",
      "[0]\ttrain-mae:4.27141\tvalid_data-mae:4.32236\n",
      "Multiple eval metrics have been passed: 'valid_data-mae' will be used for early stopping.\n",
      "\n",
      "Will train until valid_data-mae hasn't improved in 200 rounds.\n",
      "Stopping. Best iteration:\n",
      "[12]\ttrain-mae:1.88291\tvalid_data-mae:2.129\n",
      "\n",
      "fold 5 2.1289955414937762\n"
     ]
    }
   ],
   "source": [
    "xgb_params = {'boosting': 'gblinear',\n",
    " 'colsample_bylevel': 0.46,\n",
    " 'colsample_bynode': 0.6900000000000001,\n",
    " 'colsample_bytree': 0.14,\n",
    " 'eval_metric': 'mae',\n",
    " 'gamma': 3.547472486318506,\n",
    " 'learning_rate': 0.19975149847373147,\n",
    " 'max_depth': 4,\n",
    " 'min_child_weight': 3.7076616207738655,\n",
    " 'objective': 'reg:linear',\n",
    " 'reg_alpha': 0.3700067743324519,\n",
    " 'reg_lambda': 0.3915612258266841,\n",
    " 'subsample': 0.8500000000000001,\n",
    " 'tree_method': 'approx'}\n",
    "\n",
    "\n",
    "import re\n",
    "\n",
    "regex = re.compile(r\"\\[|\\]|<\", re.IGNORECASE)\n",
    "\n",
    "top_cols = [regex.sub(\"_\", col) if any(x in str(col) for x in set(('[', ']', '<'))) else col for col in top_cols]\n",
    "oof_xgb, xgb_regrs, xgb_predictions = createModel(X, y, X_test, top_cols, params=xgb_params,  model_type='xgb')"
   ]
  },
  {
   "cell_type": "code",
   "execution_count": 20,
   "metadata": {},
   "outputs": [
    {
     "name": "stdout",
     "output_type": "stream",
     "text": [
      "    |   Population Average    |             Best Individual              |\n",
      "---- ------------------------- ------------------------------------------ ----------\n",
      " Gen   Length          Fitness   Length          Fitness      OOB Fitness  Time Left\n",
      "   0    19.48      8.01509e+37        7          2.59171              N/A      8.25m\n",
      "   1     4.13       7.7378e+13        6          2.57891              N/A     37.54m\n",
      "   2     4.11      3.23737e+08        8          2.39565              N/A     47.26m\n",
      "   3     5.89      1.93476e+13       11          2.33592              N/A     70.11m\n",
      "   4     7.38      1.93444e+13       14          2.30665              N/A     54.84m\n",
      "   5     9.74      1.93444e+13       17          2.30601              N/A     52.70m\n"
     ]
    },
    {
     "name": "stderr",
     "output_type": "stream",
     "text": [
      "/home/stamstath96/anaconda3/lib/python3.5/site-packages/joblib/externals/loky/process_executor.py:706: UserWarning: A worker stopped while some jobs were given to the executor. This can be caused by a too short worker timeout or by a memory leak.\n",
      "  \"timeout or by a memory leak.\", UserWarning\n"
     ]
    },
    {
     "name": "stdout",
     "output_type": "stream",
     "text": [
      "   6    13.61          10.3784       18          2.29004              N/A     63.91m\n",
      "   7    15.62          4.96291       18          2.29004              N/A     67.38m\n",
      "   8    17.87          7.47068       28          2.26093              N/A     68.54m\n",
      "   9    18.67          10.2951       28          2.22002              N/A     70.46m\n",
      "  10    24.74          13.0529       30          2.20976              N/A     69.04m\n",
      "  11    30.37          14.3763       32          2.20386              N/A     78.05m\n",
      "  12    31.31          14.4839       37           2.1992              N/A     82.95m\n",
      "  13    32.48          10.8622       38          2.19518              N/A     87.98m\n",
      "  14    35.06           20.969       44          2.19301              N/A     86.34m\n",
      "  15    38.11          16.9052       45          2.18937              N/A     95.06m\n",
      "  16    40.56          13.7455       45          2.18937              N/A     96.91m\n",
      "  17    42.17           14.934       38          2.18611              N/A    102.57m\n",
      "  18    43.33          13.7555       47          2.18559              N/A    102.94m\n",
      "  19    42.80          10.3476       45          2.18559              N/A    105.87m\n",
      "  20    38.42          19.5711       47          2.18559              N/A     96.27m\n"
     ]
    },
    {
     "name": "stderr",
     "output_type": "stream",
     "text": [
      "/home/stamstath96/anaconda3/lib/python3.5/site-packages/joblib/externals/loky/process_executor.py:706: UserWarning: A worker stopped while some jobs were given to the executor. This can be caused by a too short worker timeout or by a memory leak.\n",
      "  \"timeout or by a memory leak.\", UserWarning\n"
     ]
    },
    {
     "name": "stdout",
     "output_type": "stream",
     "text": [
      "  21    41.42          19.4775       47          2.18559              N/A     90.29m\n",
      "  22    46.23          4.61758       45          2.18559              N/A    108.03m\n",
      "  23    45.05          4.00326       45          2.18559              N/A    100.87m\n",
      "  24    44.84          3.91381       45          2.18559              N/A    110.69m\n",
      "  25    44.98           11.147       45          2.18559              N/A    153.71m\n",
      "  26    45.02          3.84967       45          2.18559              N/A    167.92m\n",
      "  27    45.09          3.87508       45          2.18559              N/A    166.00m\n",
      "  28    44.65          3.90733       45          2.18559              N/A    159.15m\n",
      "  29    44.84          3.88005       45          2.18559              N/A    164.39m\n",
      "  30    45.02          3.87378       45          2.18559              N/A    156.72m\n",
      "  31    45.19          3.92613       45          2.18559              N/A    154.43m\n",
      "  32    45.08            41602       45          2.18559              N/A    156.59m\n",
      "  33    44.72          3.98182       45          2.18559              N/A    149.90m\n",
      "  34    44.92          3.93452       45          2.18559              N/A    151.66m\n",
      "  35    44.95          3.91945       45          2.18559              N/A    145.33m\n",
      "  36    44.87      2.95952e+10       45          2.18559              N/A    144.88m\n",
      "  37    44.85          3.92986       45          2.18559              N/A    143.96m\n",
      "  38    45.25          3.91705       45          2.18559              N/A    134.59m\n",
      "  39    45.19          3.94279       45          2.18559              N/A    138.49m\n",
      "  40    45.26          3.87249       45          2.18559              N/A    134.95m\n",
      "  41    45.15          3.91337       45          2.18559              N/A    135.49m\n",
      "  42    44.91          3.87055       45          2.18559              N/A    127.11m\n",
      "  43    44.92          3.85784       45          2.18211              N/A    126.32m\n",
      "  44    44.81          3.92718       58          2.17754              N/A    126.23m\n",
      "  45    45.19          3.85619       58          2.17754              N/A    122.08m\n",
      "  46    46.27          3.86178       43          2.16041              N/A    116.05m\n",
      "  47    55.22          10.5657       43          2.16041              N/A     89.14m\n",
      "  48    49.85          3.97489       48          2.15679              N/A     62.89m\n",
      "  49    43.10          3.71313       54          2.15545              N/A     69.66m\n",
      "  50    44.52          3.63774       54          2.14232              N/A     59.86m\n",
      "  51    49.63          3.56411       52            2.142              N/A     79.50m\n",
      "  52    55.95          3.55483       54           2.1418              N/A     63.65m\n",
      "  53    53.58          3.54098       54           2.1418              N/A     67.85m\n",
      "  54    52.34          3.70567       54           2.1418              N/A     62.25m\n",
      "  55    53.20          3.45354       54           2.1418              N/A     73.56m\n",
      "  56    53.79           3.4448       54           2.1418              N/A     83.77m\n",
      "  57    54.11          3.34991       54           2.1418              N/A     64.48m\n",
      "  58    54.24           3.4049       54           2.1418              N/A    101.22m\n",
      "  59    54.14          3.43279       54           2.1418              N/A    108.29m\n",
      "  60    54.00          3.41459       54           2.1418              N/A    108.84m\n",
      "  61    53.76           3.3947       54           2.1418              N/A    103.91m\n",
      "  62    54.17          4.87634       54           2.1418              N/A    100.16m\n",
      "  63    54.13          3.48809       54           2.1418              N/A     98.21m\n",
      "  64    53.97          3.43667       54           2.1418              N/A     92.00m\n",
      "  65    53.90          3.48999       54           2.1418              N/A     90.62m\n",
      "  66    53.98          3.44955       54           2.1418              N/A     86.25m\n",
      "  67    54.24          4.10738       54           2.1418              N/A     84.64m\n",
      "  68    53.84          3.56463       54           2.1418              N/A     81.33m\n",
      "  69    53.79          3.38786       54           2.1418              N/A     79.05m\n",
      "  70    53.95          3.40555       54           2.1418              N/A     75.26m\n",
      "  71    53.86          3.49748       54           2.1418              N/A     74.98m\n",
      "  72    53.99          3.44078       54           2.1418              N/A     69.49m\n",
      "  73    54.02          3.44546       54           2.1418              N/A     69.26m\n",
      "  74    53.96          3.43018       54           2.1418              N/A     66.81m\n",
      "  75    53.94          4.88797       54           2.1418              N/A     63.33m\n",
      "  76    53.98           3.4331       54           2.1418              N/A     59.95m\n",
      "  77    53.86          3.49276       54           2.1418              N/A     58.75m\n",
      "  78    54.03          3.43965       54           2.1418              N/A     53.78m\n",
      "  79    54.09          3.40672       54           2.1418              N/A     52.06m\n",
      "  80    53.98            3.488       54           2.1418              N/A     51.68m\n",
      "  81    54.08          3.48525       54           2.1418              N/A     48.04m\n",
      "  82    54.08          3.46308       54           2.1418              N/A     45.67m\n",
      "  83    54.19          17.2549       54           2.1418              N/A     43.51m\n",
      "  84    53.75          3.45514       54           2.1418              N/A     40.06m\n",
      "  85    54.11           3.4156       54           2.1418              N/A     36.66m\n",
      "  86    53.53          3000.81       54           2.1418              N/A     35.49m\n",
      "  87    53.60          3.44217       54           2.1418              N/A     33.75m\n",
      "  88    53.98          3.70321       54           2.1418              N/A     28.68m\n",
      "  89    53.98          3.49126       54           2.1418              N/A     27.17m\n",
      "  90    53.66          3.46051       54           2.1418              N/A     23.50m\n",
      "  91    54.19          3.47688       54           2.1418              N/A     22.21m\n",
      "  92    54.14          3.47751       54           2.1418              N/A     18.37m\n",
      "  93    54.16          3.43772       54           2.1418              N/A     16.65m\n",
      "  94    53.90          3.44004       54           2.1418              N/A     13.37m\n",
      "  95    54.18          3.45636       54           2.1418              N/A     10.64m\n",
      "  96    53.73           3.4224       54           2.1418              N/A      8.22m\n",
      "  97    54.05          3.44492       54           2.1418              N/A      5.37m\n",
      "  98    54.00          3.42993       54           2.1418              N/A      2.81m\n",
      "  99    53.69          3.51077       54           2.1418              N/A      0.00s\n",
      "fold 1 2.2973603921711923\n",
      "    |   Population Average    |             Best Individual              |\n",
      "---- ------------------------- ------------------------------------------ ----------\n",
      " Gen   Length          Fitness   Length          Fitness      OOB Fitness  Time Left\n",
      "   0    19.48      9.28376e+37        7          2.64477              N/A     16.64m\n",
      "   1     4.15      9.77732e+13        6          2.62729              N/A     37.60m\n",
      "   2     4.11      4.21246e+08        8          2.44612              N/A     46.18m\n",
      "   3     5.87      2.44474e+13        7          2.40445              N/A     59.42m\n",
      "   4     7.13      2.44432e+13       14          2.36245              N/A     50.05m\n",
      "   5     8.72          6.82569       14          2.36003              N/A     61.04m\n",
      "   6    10.96          6.32756       14          2.36003              N/A     54.12m\n",
      "   7    14.10          4.87191       17          2.35657              N/A     68.18m\n",
      "   8    14.05          4.34859       36          2.33922              N/A     59.29m\n",
      "   9    15.35          4.21187       39          2.33759              N/A     70.93m\n",
      "  10    24.60          5.72529       74           2.3341              N/A     80.75m\n",
      "  11    38.85          3.63396       74           2.3341              N/A     68.71m\n",
      "  12    50.46          3.10862      110          2.33372              N/A     90.79m\n",
      "  13    68.07          2.87951      121          2.33339              N/A    108.23m\n",
      "  14    69.78          7.69216       92          2.33165              N/A    130.52m\n"
     ]
    },
    {
     "name": "stdout",
     "output_type": "stream",
     "text": [
      "  15    70.95          2.84429      121          2.28219              N/A    122.08m\n",
      "  16    75.42          23.9612      121          2.28219              N/A    121.39m\n",
      "  17    91.41          2.88693      105          2.24328              N/A    141.05m\n",
      "  18   122.31          3.02514      120          2.22904              N/A    133.60m\n",
      "  19   126.18          3.03661      110          2.21549              N/A    141.03m\n",
      "  20   122.16          2.97529      192          2.19649              N/A    168.52m\n",
      "  21   131.62          2.94417      165          2.19473              N/A    151.26m\n",
      "  22   145.16           2.8992      193          2.19018              N/A    170.47m\n",
      "  23   190.27          2.96286      195          2.18693              N/A    179.86m\n",
      "  24   173.37          2.94847      225          2.18368              N/A    187.90m\n",
      "  25   188.85          2.83149      195          2.18158              N/A    193.14m\n",
      "  26   203.47          2.86025      317          2.17693              N/A    192.51m\n",
      "  27   210.38          2.88055      237          2.17393              N/A    209.07m\n",
      "  28   211.08          2.86886      300          2.16683              N/A    217.67m\n",
      "  29   218.48           2.8249      284          2.16619              N/A    221.95m\n",
      "  30   249.18          2.91476      308          2.15669              N/A    218.86m\n",
      "  31   283.18          2.71877      421          2.15309              N/A    241.64m\n",
      "  32   282.49          2.72697      452          2.15229              N/A    253.36m\n",
      "  33   306.50          2.91069      453          2.15032              N/A    263.31m\n",
      "  34   307.49          7.91893      372          2.14905              N/A    268.35m\n",
      "  35   294.25          2.91808      507          2.14634              N/A    271.69m\n",
      "  36   304.06          2.90814      441          2.14708              N/A    269.22m\n",
      "  37   299.50          2.90865      473          2.14381              N/A    282.75m\n",
      "  38   301.12          2.99165      452          2.14245              N/A    271.67m\n",
      "  39   303.22          2.98628      591           2.1392              N/A    278.97m\n",
      "  40   311.03          3.01638      587           2.1389              N/A    258.17m\n",
      "  41   322.98          3.05212      452          2.13722              N/A    260.02m\n",
      "  42   321.44          2.97736      477          2.13545              N/A    283.30m\n",
      "  43   320.45          51.1689      416          2.13402              N/A    280.44m\n",
      "  44   315.06          3.09074      362          2.13112              N/A    260.68m\n",
      "  45   314.12           3.0369      345          2.12446              N/A    254.81m\n",
      "  46   314.15          3.03243      297          2.12421              N/A    246.08m\n",
      "  47   352.31          2.97132      581          2.12238              N/A    236.20m\n",
      "  48   351.19          3.05065      369          2.12101              N/A    255.24m\n",
      "  49   326.41          2.99916      299          2.12098              N/A    233.02m\n",
      "  50   303.08          3.11687      372          2.11974              N/A    223.88m\n",
      "  51   316.96          3.06735      309          2.11778              N/A    209.36m\n",
      "  52   303.54          5.20009      309          2.11778              N/A    227.35m\n",
      "  53   301.70          3.04501      311          2.11697              N/A    209.91m\n",
      "  54   303.72          3.33825      333          2.11557              N/A    204.08m\n",
      "  55   304.04          3.09523      377          2.11349              N/A    194.21m\n",
      "  56   293.32          3.18263      376           2.1092              N/A    186.35m\n",
      "  57   274.64          17.4053      557          2.10447              N/A    190.61m\n",
      "  58   278.19          3.20253      532          2.10263              N/A    179.46m\n",
      "  59   354.74          28.5238      581          2.10065              N/A    176.83m\n",
      "  60   392.77          2.87524      541          2.09962              N/A    190.47m\n",
      "  61   384.03          2.86022      454          2.09698              N/A    214.12m\n",
      "  62   388.18          4.81558      501           2.0927              N/A    202.41m\n",
      "  63   401.12          2.87699      496          2.08964              N/A    202.86m\n"
     ]
    },
    {
     "name": "stderr",
     "output_type": "stream",
     "text": [
      "/home/stamstath96/anaconda3/lib/python3.5/site-packages/joblib/externals/loky/process_executor.py:706: UserWarning: A worker stopped while some jobs were given to the executor. This can be caused by a too short worker timeout or by a memory leak.\n",
      "  \"timeout or by a memory leak.\", UserWarning\n"
     ]
    },
    {
     "name": "stdout",
     "output_type": "stream",
     "text": [
      "  64   425.20          2.81746      460          2.08828              N/A    208.96m\n"
     ]
    },
    {
     "name": "stderr",
     "output_type": "stream",
     "text": [
      "/home/stamstath96/anaconda3/lib/python3.5/site-packages/joblib/externals/loky/process_executor.py:706: UserWarning: A worker stopped while some jobs were given to the executor. This can be caused by a too short worker timeout or by a memory leak.\n",
      "  \"timeout or by a memory leak.\", UserWarning\n"
     ]
    },
    {
     "name": "stdout",
     "output_type": "stream",
     "text": [
      "  65   447.31          2.81594      507          2.08338              N/A    197.35m\n"
     ]
    },
    {
     "name": "stderr",
     "output_type": "stream",
     "text": [
      "/home/stamstath96/anaconda3/lib/python3.5/site-packages/joblib/externals/loky/process_executor.py:706: UserWarning: A worker stopped while some jobs were given to the executor. This can be caused by a too short worker timeout or by a memory leak.\n",
      "  \"timeout or by a memory leak.\", UserWarning\n"
     ]
    },
    {
     "name": "stdout",
     "output_type": "stream",
     "text": [
      "  66   466.66          2.78337      684          2.07979              N/A    197.90m\n",
      "  67   454.33          3.42351      684          2.07979              N/A    208.26m\n",
      "  68   439.50          3.07449      490          2.07924              N/A    214.26m\n",
      "  69   440.65          2.80115      436          2.07709              N/A    196.41m\n"
     ]
    },
    {
     "name": "stderr",
     "output_type": "stream",
     "text": [
      "/home/stamstath96/anaconda3/lib/python3.5/site-packages/joblib/externals/loky/process_executor.py:706: UserWarning: A worker stopped while some jobs were given to the executor. This can be caused by a too short worker timeout or by a memory leak.\n",
      "  \"timeout or by a memory leak.\", UserWarning\n"
     ]
    },
    {
     "name": "stdout",
     "output_type": "stream",
     "text": [
      "  70   440.92          2.70115      828          2.07561              N/A    197.70m\n"
     ]
    },
    {
     "name": "stderr",
     "output_type": "stream",
     "text": [
      "/home/stamstath96/anaconda3/lib/python3.5/site-packages/joblib/externals/loky/process_executor.py:706: UserWarning: A worker stopped while some jobs were given to the executor. This can be caused by a too short worker timeout or by a memory leak.\n",
      "  \"timeout or by a memory leak.\", UserWarning\n"
     ]
    },
    {
     "name": "stdout",
     "output_type": "stream",
     "text": [
      "  71   438.99          2.81769      825          2.07396              N/A    185.56m\n"
     ]
    },
    {
     "name": "stderr",
     "output_type": "stream",
     "text": [
      "/home/stamstath96/anaconda3/lib/python3.5/site-packages/joblib/externals/loky/process_executor.py:706: UserWarning: A worker stopped while some jobs were given to the executor. This can be caused by a too short worker timeout or by a memory leak.\n",
      "  \"timeout or by a memory leak.\", UserWarning\n"
     ]
    },
    {
     "name": "stdout",
     "output_type": "stream",
     "text": [
      "  72   441.28          5.98883      549          2.07016              N/A    166.56m\n"
     ]
    },
    {
     "name": "stderr",
     "output_type": "stream",
     "text": [
      "/home/stamstath96/anaconda3/lib/python3.5/site-packages/joblib/externals/loky/process_executor.py:706: UserWarning: A worker stopped while some jobs were given to the executor. This can be caused by a too short worker timeout or by a memory leak.\n",
      "  \"timeout or by a memory leak.\", UserWarning\n"
     ]
    },
    {
     "name": "stdout",
     "output_type": "stream",
     "text": [
      "  73   436.45          2.79086      547          2.06563              N/A    168.46m\n",
      "  74   450.87          3.87026      680          2.06404              N/A    158.38m\n",
      "  75   511.41          29.5785      689           2.0617              N/A    164.77m\n",
      "  76   533.79          9.95189      895          2.05887              N/A    156.86m\n",
      "  77   538.92          2.74331      528           2.0568              N/A    162.09m\n",
      "  78   537.65          2.58731      656          2.05488              N/A    164.40m\n"
     ]
    },
    {
     "name": "stderr",
     "output_type": "stream",
     "text": [
      "/home/stamstath96/anaconda3/lib/python3.5/site-packages/joblib/externals/loky/process_executor.py:706: UserWarning: A worker stopped while some jobs were given to the executor. This can be caused by a too short worker timeout or by a memory leak.\n",
      "  \"timeout or by a memory leak.\", UserWarning\n"
     ]
    },
    {
     "name": "stdout",
     "output_type": "stream",
     "text": [
      "  79   538.41          2.59302      644          2.05196              N/A    154.50m\n"
     ]
    },
    {
     "name": "stderr",
     "output_type": "stream",
     "text": [
      "/home/stamstath96/anaconda3/lib/python3.5/site-packages/joblib/externals/loky/process_executor.py:706: UserWarning: A worker stopped while some jobs were given to the executor. This can be caused by a too short worker timeout or by a memory leak.\n",
      "  \"timeout or by a memory leak.\", UserWarning\n"
     ]
    },
    {
     "name": "stdout",
     "output_type": "stream",
     "text": [
      "  80   533.25          4.17404      627          2.04961              N/A    152.90m\n"
     ]
    },
    {
     "name": "stderr",
     "output_type": "stream",
     "text": [
      "/home/stamstath96/anaconda3/lib/python3.5/site-packages/joblib/externals/loky/process_executor.py:706: UserWarning: A worker stopped while some jobs were given to the executor. This can be caused by a too short worker timeout or by a memory leak.\n",
      "  \"timeout or by a memory leak.\", UserWarning\n"
     ]
    },
    {
     "name": "stdout",
     "output_type": "stream",
     "text": [
      "  81   509.20          11.4281      845          2.04744              N/A    129.62m\n"
     ]
    },
    {
     "name": "stderr",
     "output_type": "stream",
     "text": [
      "/home/stamstath96/anaconda3/lib/python3.5/site-packages/joblib/externals/loky/process_executor.py:706: UserWarning: A worker stopped while some jobs were given to the executor. This can be caused by a too short worker timeout or by a memory leak.\n",
      "  \"timeout or by a memory leak.\", UserWarning\n"
     ]
    },
    {
     "name": "stdout",
     "output_type": "stream",
     "text": [
      "  82   499.10          2.70777      584          2.04564              N/A    125.51m\n",
      "  83   547.36          2.59708      756          2.04451              N/A    110.94m\n",
      "  84   512.45          3.75781      530          2.04329              N/A    108.66m\n",
      "  85   540.23           2.6126      559          2.04205              N/A    106.63m\n",
      "  86   536.57          1273.15      525          2.04032              N/A    101.03m\n",
      "  87   529.36          37.1111      526          2.03951              N/A     98.60m\n",
      "  88   524.56          2.61949      501          2.03922              N/A     87.53m\n",
      "  89   520.17          2.62513      505          2.03838              N/A     81.24m\n",
      "  90   509.14          5203.61      489          2.03762              N/A     71.98m\n",
      "  91   503.34           2.6531      489          2.03762              N/A     55.42m\n",
      "  92   499.68           2.6561      527          2.03652              N/A     53.46m\n",
      "  93   492.71          2.63921      527          2.03652              N/A     45.93m\n",
      "  94   489.99          2.72965      497           2.0363              N/A     36.74m\n",
      "  95   492.02          2.66594      571          2.03574              N/A     28.30m\n",
      "  96   491.91          2.59954      758          2.03522              N/A     23.35m\n"
     ]
    },
    {
     "name": "stderr",
     "output_type": "stream",
     "text": [
      "/home/stamstath96/anaconda3/lib/python3.5/site-packages/joblib/externals/loky/process_executor.py:706: UserWarning: A worker stopped while some jobs were given to the executor. This can be caused by a too short worker timeout or by a memory leak.\n",
      "  \"timeout or by a memory leak.\", UserWarning\n"
     ]
    },
    {
     "name": "stdout",
     "output_type": "stream",
     "text": [
      "  97   490.72          2.66342      538          2.03485              N/A     15.08m\n",
      "  98   488.31          2.63925      538          2.03485              N/A      7.66m\n",
      "  99   492.39          2.61047      612          2.03471              N/A      0.00s\n",
      "fold 2 1.9794976391759693\n",
      "    |   Population Average    |             Best Individual              |\n",
      "---- ------------------------- ------------------------------------------ ----------\n",
      " Gen   Length          Fitness   Length          Fitness      OOB Fitness  Time Left\n",
      "   0    19.48      8.69872e+37        7          2.58856              N/A      9.59m\n",
      "   1     4.15      8.39078e+13        6          2.58665              N/A     36.76m\n",
      "   2     4.11      3.69054e+08        8          2.40172              N/A     46.41m\n",
      "   3     5.88      2.09809e+13       11          2.34563              N/A     46.36m\n",
      "   4     7.37      2.09768e+13       14          2.31434              N/A     47.62m\n",
      "   5     9.22          18.8399       14          2.31434              N/A     65.17m\n",
      "   6    12.56           10.937       17          2.30483              N/A     51.86m\n",
      "   7    14.20          5.65812       17          2.30483              N/A     74.76m\n",
      "   8    14.56          10.6811       19          2.30469              N/A     58.75m\n",
      "   9    16.63          31.1755       19          2.30469              N/A     79.77m\n",
      "  10    17.95          42.4583       21          2.30464              N/A     56.99m\n",
      "  11    19.10          34.4553       21          2.30464              N/A     59.69m\n",
      "  12    19.10          41.0657       21          2.30464              N/A     81.60m\n",
      "  13    19.05          3305.83       21          2.30464              N/A     89.09m\n",
      "  14    19.17          29.5338       21          2.30464              N/A     90.85m\n",
      "  15    18.85          25.7129       21          2.30464              N/A     91.91m\n",
      "  16    18.93          33.9736       21          2.30464              N/A     92.03m\n",
      "  17    19.09          28.7948       21          2.30464              N/A     75.21m\n",
      "  18    18.97          29.7091       21          2.30464              N/A     88.57m\n",
      "  19    19.00          34.0509       21          2.30464              N/A     89.43m\n",
      "  20    18.99      7.81032e+07       21          2.30464              N/A     87.41m\n",
      "  21    19.07          24.6127       21          2.30464              N/A     87.61m\n",
      "  22    18.94          29.5775       21          2.30464              N/A     84.53m\n",
      "  23    19.02          34.2509       21          2.30464              N/A     85.68m\n",
      "  24    19.03          32.2042       21          2.30464              N/A     83.44m\n",
      "  25    18.99          40.8579       21          2.30464              N/A     83.15m\n",
      "  26    18.99          40.8923       21          2.30464              N/A     81.22m\n",
      "  27    19.02          40.9021       21          2.30464              N/A     69.26m\n",
      "  28    18.88          35.9336       21          2.30464              N/A     80.97m\n",
      "  29    18.93          45.9349       21          2.30464              N/A     81.36m\n",
      "  30    19.06          44.2813       21          2.30464              N/A     81.63m\n",
      "  31    19.04          24.0505       21          2.30464              N/A     78.89m\n",
      "  32    19.01           109817       21          2.30464              N/A     79.69m\n",
      "  33    18.90          36.2671       21          2.30464              N/A     75.02m\n",
      "  34    18.94          37.3425       21          2.30464              N/A     74.06m\n",
      "  35    18.98          36.3533       21          2.30464              N/A     61.89m\n",
      "  36    18.90       5.4019e+10       21          2.30464              N/A     75.18m\n",
      "  37    18.94           35.939       21          2.30464              N/A     71.78m\n",
      "  38    19.18           22.222       21          2.30464              N/A     72.42m\n",
      "  39    19.06           22.913       21          2.30464              N/A     69.76m\n",
      "  40    19.13          31.1087       21          2.30464              N/A     67.74m\n",
      "  41    19.09          31.8077       21          2.30464              N/A     66.54m\n",
      "  42    18.86          34.9602       21          2.30464              N/A     53.09m\n",
      "  43    18.95          33.7849       21          2.30464              N/A     63.26m\n",
      "  44    18.89          35.9467       21          2.30464              N/A     62.43m\n",
      "  45    19.12           47.073       21          2.30464              N/A     61.44m\n",
      "  46    18.93          26.8417       21          2.30464              N/A     61.15m\n",
      "  47    19.06          38.0856       21          2.30464              N/A     59.44m\n",
      "  48    19.01          28.5743       21          2.30464              N/A     48.17m\n",
      "  49    18.87           26.886       21          2.30464              N/A     58.09m\n",
      "  50    18.91          51.3495       21          2.30464              N/A     57.36m\n",
      "  51    18.91          32.8079       21          2.30464              N/A     55.03m\n",
      "  52    18.97          36.3872       21          2.30464              N/A     54.20m\n",
      "  53    19.01          36.5745       21          2.30464              N/A     53.11m\n",
      "  54    19.15          28.5126       21          2.30464              N/A     42.68m\n",
      "  55    19.10          24.9522       21          2.30464              N/A     52.08m\n",
      "  56    18.95          38.5759       21          2.30464              N/A     50.64m\n",
      "  57    19.01          48.5384       21          2.30464              N/A     49.66m\n",
      "  58    19.15          38.0044       21          2.30464              N/A     48.83m\n",
      "  59    19.01          31.4239       21          2.30464              N/A     38.49m\n",
      "  60    19.00          26.9534       21          2.30464              N/A     45.03m\n",
      "  61    18.91          27.2555       21          2.30464              N/A     43.58m\n",
      "  62    19.08          32.6506       21          2.30464              N/A     43.49m\n",
      "  63    18.99          48.9174       21          2.30464              N/A     41.83m\n",
      "  64    19.00          36.3169       21          2.30464              N/A     33.77m\n",
      "  65    19.01          36.3305       21          2.30464              N/A     40.29m\n",
      "  66    18.98          36.8686       21          2.30464              N/A     39.10m\n",
      "  67    18.99          31.2266       21          2.30464              N/A     38.46m\n",
      "  68    19.02          26.8348       21          2.30464              N/A     29.98m\n",
      "  69    18.91          46.2997       21          2.30464              N/A     35.39m\n",
      "  70    19.01          39.1448       21          2.30464              N/A     34.46m\n",
      "  71    19.04          23.4656       21          2.30464              N/A     33.11m\n",
      "  72    19.02          59.4045       21          2.30464              N/A     25.58m\n",
      "  73    19.00          42.5999       21          2.30464              N/A     30.81m\n",
      "  74    18.96           37.271       21          2.30464              N/A     30.03m\n",
      "  75    18.99          86.9832       21          2.30464              N/A     29.03m\n",
      "  76    18.96          37.9042       21          2.30464              N/A     27.27m\n",
      "  77    18.93             29.7       21          2.30464              N/A     21.35m\n",
      "  78    19.01          25.0272       21          2.30464              N/A     24.85m\n",
      "  79    19.10          118.282       21          2.30464              N/A     23.39m\n",
      "  80    19.01          36.3487       21          2.30464              N/A     22.78m\n",
      "  81    19.05          29.3898       21          2.30464              N/A     17.59m\n",
      "  82    19.00          30.8044       21          2.30464              N/A     20.60m\n",
      "  83    19.03          46.0956       21          2.30464              N/A     19.05m\n",
      "  84    18.85          44.9797       21          2.30464              N/A     14.38m\n",
      "  85    19.00          59.6069       21          2.30464              N/A     17.11m\n",
      "  86    18.80          3082.86       21          2.30464              N/A     15.81m\n",
      "  87    18.92          27.4118       21          2.30464              N/A     14.12m\n",
      "  88    19.03          41.6489       21          2.30464              N/A     10.42m\n",
      "  89    19.03          32.7902       21          2.30464              N/A     11.87m\n",
      "  90    18.94          33.3651       21          2.30464              N/A     10.68m\n"
     ]
    },
    {
     "name": "stdout",
     "output_type": "stream",
     "text": [
      "  91    19.09          34.6325       21          2.30464              N/A      7.72m\n",
      "  92    19.09          40.0336       21          2.30464              N/A      8.51m\n",
      "  93    19.01          31.7417       21          2.30464              N/A      7.15m\n",
      "  94    18.98          34.4391       21          2.30464              N/A      6.00m\n",
      "  95    19.05          46.4672       21          2.30464              N/A      3.76m\n",
      "  96    18.90          27.2619       21          2.30464              N/A      3.73m\n",
      "  97    19.14          22.0244       21          2.30464              N/A      2.42m\n",
      "  98    18.88          24.4002       21          2.30464              N/A     57.04s\n",
      "  99    18.96           29.307       21          2.30464              N/A      0.00s\n",
      "fold 3 2.396270871717633\n",
      "    |   Population Average    |             Best Individual              |\n",
      "---- ------------------------- ------------------------------------------ ----------\n",
      " Gen   Length          Fitness   Length          Fitness      OOB Fitness  Time Left\n",
      "   0    19.48      9.22127e+37        7          2.63982              N/A      7.77m\n",
      "   1     4.15      7.83228e+13        6          2.62907              N/A     37.39m\n",
      "   2     4.10      3.30927e+08        8           2.4474              N/A     47.30m\n",
      "   3     5.89      1.95839e+13       11           2.3939              N/A     71.49m\n",
      "   4     7.22      1.95806e+13       16          2.36601              N/A     46.82m\n",
      "   5     9.23      1.95806e+13       26          2.34727              N/A     48.91m\n",
      "   6    12.36          9.44549       32          2.29566              N/A     51.90m\n",
      "   7    20.68          6.68405       42          2.25627              N/A     81.88m\n",
      "   8    28.99          4.48271       40          2.23379              N/A     67.44m\n",
      "   9    35.07          4.16902       45           2.2312              N/A     73.18m\n",
      "  10    40.31          4.25717       47          2.22262              N/A    104.87m\n",
      "  11    43.12          3.35919       71          2.19543              N/A     84.50m\n",
      "  12    54.34          3.49544       77          2.18934              N/A    109.70m\n",
      "  13    74.11          3.41897       76          2.16564              N/A     97.88m\n",
      "  14    77.89          3.34146       98          2.15362              N/A    136.25m\n",
      "  15    80.46          3.20575       82          2.13293              N/A    134.52m\n",
      "  16    85.89          3.24696       91           2.1319              N/A    112.71m\n",
      "  17    90.93          3.18357       95           2.1189              N/A    142.66m\n",
      "  18    89.27          3.46147       98          2.11738              N/A    150.60m\n",
      "  19    98.43          3.15223      171          2.11573              N/A    150.08m\n",
      "  20   101.59          3.17545      131          2.11529              N/A    152.11m\n",
      "  21   101.35           3.2098       91          2.10915              N/A    129.64m\n",
      "  22    95.82          3.36439      155          2.10578              N/A    150.98m\n",
      "  23   115.42           3.1352      158          2.10539              N/A    146.61m\n",
      "  24   112.04          3.25164      154           2.0946              N/A    150.29m\n",
      "  25   114.05          3.08574      165          2.08939              N/A    145.57m\n",
      "  26   102.91          3.15314      162          2.08924              N/A    148.75m\n",
      "  27   154.69          2.87639      177          2.08748              N/A    147.07m\n",
      "  28   163.17          2.77946      162          2.08694              N/A    138.26m\n",
      "  29   162.78          2.82711      165          2.08654              N/A    172.62m\n",
      "  30   162.47          2.77646      255           2.0863              N/A    209.61m\n",
      "  31   162.75          2.81816      169          2.08622              N/A    177.32m\n",
      "  32   165.33          2.77807      170           2.0861              N/A    174.91m\n",
      "  33   165.77          2.79877      170           2.0861              N/A    176.42m\n",
      "  34   167.42          2.70665      145          2.08596              N/A    217.68m\n",
      "  35   166.94          2.69863      207          2.08577              N/A    168.07m\n",
      "  36   164.93          2.64547      140          2.08567              N/A    172.44m\n",
      "  37   151.87           2.9224      167          2.08474              N/A    187.73m\n",
      "  38   145.60          3.02338      171          2.08458              N/A    153.49m\n",
      "  39   146.19          2.80521      261          2.08449              N/A    146.33m\n",
      "  40   155.34          2.81673      275           2.0844              N/A    141.39m\n",
      "  41   143.67          2.79327      164          2.08451              N/A    147.93m\n",
      "  42   144.78          2.77311      167          2.08446              N/A    155.89m\n",
      "  43   144.88          2.79108      155           2.0844              N/A    143.24m\n",
      "  44   146.70          2.78827      147          2.08425              N/A    127.74m\n",
      "  45   149.39           2.7646      151          2.08396              N/A    145.39m\n",
      "  46   148.27          2.76603      152          2.08393              N/A    153.65m\n",
      "  47   147.89          2.80633      149          2.08371              N/A    131.81m\n",
      "  48   150.66          2.76153      158          2.08349              N/A    122.61m\n",
      "  49   149.73          2.78032      158          2.08349              N/A    127.18m\n",
      "  50   150.00          2.78337      159          2.08347              N/A    161.16m\n",
      "  51   149.67          3.22317      158          2.08353              N/A    127.38m\n",
      "  52   151.86          2.76088      152          2.08346              N/A    128.49m\n",
      "  53   153.51          2.75761      153          2.08342              N/A    133.32m\n",
      "  54   153.50          2.96288      156          2.08298              N/A    125.07m\n",
      "  55   151.76          2.76693      157          2.08292              N/A    125.09m\n",
      "  56   153.18          2.75361      156          2.08285              N/A    107.31m\n",
      "  57   156.06          2.74506      157          2.08278              N/A    115.46m\n",
      "  58   156.97          2.72545      159          2.08276              N/A    109.73m\n",
      "  59   155.82          2.75111      161          2.08269              N/A    123.97m\n",
      "  60   156.56          2.75406      163          2.08266              N/A    103.53m\n",
      "  61   156.80          2.77161      163          2.08266              N/A    108.97m\n",
      "  62   157.94          4.18897      165          2.08255              N/A    122.69m\n",
      "  63   157.88          2.74692      170          2.08265              N/A    121.17m\n",
      "  64   157.28          2.75788      170          2.08265              N/A    101.70m\n",
      "  65   156.90          2.76133      158          2.08257              N/A    156.89m\n",
      "  66   157.25          2.72467      158          2.08257              N/A    100.05m\n",
      "  67   157.31          2.74794      161          2.08254              N/A     98.05m\n",
      "  68   157.48          2.73131      201          2.08249              N/A     89.72m\n",
      "  69   157.91          2.72554      170           2.0825              N/A     81.04m\n",
      "  70   156.40          2.73951      163          2.08251              N/A     91.80m\n",
      "  71   157.21          2.72674      169          2.08252              N/A     79.42m\n",
      "  72   156.88           2.7686      169          2.08252              N/A    105.71m\n",
      "  73   156.57          2.74538      162          2.08253              N/A     85.78m\n",
      "  74   157.02          2.71974      169          2.08252              N/A    129.70m\n",
      "  75   157.22          2.74386      162          2.08253              N/A    141.33m\n",
      "  76   157.45          2.73558      162          2.08253              N/A    129.56m\n",
      "  77   156.62          2.75843      159          2.08254              N/A    128.15m\n",
      "  78   157.26          2.74688      162          2.08253              N/A    122.74m\n",
      "  79   157.40          2.72384      169          2.08252              N/A    111.27m\n",
      "  80   156.99          2.72373      169          2.08252              N/A    112.90m\n",
      "  81   156.95          2.73061      169          2.08252              N/A    106.07m\n",
      "  82   156.94          2.77452      162          2.08253              N/A     94.75m\n",
      "  83   156.89          2.74505      162          2.08253              N/A     95.45m\n",
      "  84   156.89          2.73632      169          2.08252              N/A     85.07m\n"
     ]
    },
    {
     "name": "stdout",
     "output_type": "stream",
     "text": [
      "  85   156.91          2.73913      169          2.08252              N/A     82.25m\n",
      "  86   156.23          2.71842      159          2.08254              N/A     73.76m\n",
      "  87   156.76            2.742      169          2.08252              N/A     67.47m\n",
      "  88   156.84          2.74742      162          2.08253              N/A     65.91m\n",
      "  89   156.37          2.75228      162          2.08253              N/A     56.24m\n",
      "  90   156.82          2.75607      169          2.08252              N/A     51.21m\n",
      "  91   157.42           2.7266      169          2.08252              N/A     45.97m\n",
      "  92   156.92          2.73538      159          2.08254              N/A     40.48m\n",
      "  93   157.15          2.73527      162          2.08253              N/A     36.13m\n",
      "  94   156.81          2.74885      169          2.08252              N/A     28.71m\n",
      "  95   157.37          2.72367      169          2.08252              N/A     23.17m\n",
      "  96   156.93          2.75176      162          2.08253              N/A     17.63m\n",
      "  97   157.16          2.75937      157          2.08238              N/A     11.72m\n",
      "  98   157.21          2.71347      157          2.08238              N/A      5.87m\n",
      "  99   156.64          2.74178      207           2.0823              N/A      0.00s\n",
      "fold 4 1.9616028278071003\n",
      "    |   Population Average    |             Best Individual              |\n",
      "---- ------------------------- ------------------------------------------ ----------\n",
      " Gen   Length          Fitness   Length          Fitness      OOB Fitness  Time Left\n",
      "   0    19.48       1.9162e+37        7          2.61082              N/A     10.49m\n",
      "   1     4.16      6.76165e+13        6          2.60507              N/A     38.77m\n",
      "   2     4.12      3.12705e+08        8          2.41617              N/A     46.30m\n",
      "   3     5.88      1.69078e+13       11          2.36052              N/A     46.18m\n",
      "   4     7.25       1.6904e+13       16          2.33174              N/A     49.06m\n",
      "   5     9.30       1.6904e+13       16          2.32833              N/A     50.04m\n",
      "   6    12.59          8.86469       22          2.31895              N/A     54.34m\n",
      "   7    15.06          5.23965       22          2.31528              N/A     96.21m\n",
      "   8    17.55          4.30292       22           2.2538              N/A     58.17m\n",
      "   9    22.90          5.61585       24          2.24258              N/A     63.36m\n",
      "  10    23.68          5.05363       24          2.24258              N/A     62.65m\n",
      "  11    24.70          5.82705       26          2.23988              N/A     65.37m\n",
      "  12    24.53          5.12667       32          2.23815              N/A    100.10m\n",
      "  13    25.26          194.021       34          2.23608              N/A     67.13m\n",
      "  14    27.78          12.9326       41           2.2284              N/A     75.19m\n",
      "  15    31.63          11.8175       40          2.22508              N/A    101.93m\n",
      "  16    38.09          21.6953       49           2.2208              N/A     76.32m\n",
      "  17    42.31          15.6752       48          2.21581              N/A     77.82m\n",
      "  18    44.18          17.1147       55          2.21464              N/A    104.98m\n",
      "  19    47.21          13.5166       66          2.21232              N/A     81.75m\n",
      "  20    50.09      7.35199e+07       58          2.21178              N/A     83.41m\n",
      "  21    52.95          20.3513       54          2.20776              N/A    112.18m\n",
      "  22    58.62          12.2394       60           2.2074              N/A     87.58m\n",
      "  23    61.36          11.6672       62          2.20673              N/A     86.33m\n",
      "  24    61.60          9.14329       68          2.20531              N/A    117.58m\n",
      "  25    58.55          20.6784       66          2.20527              N/A     90.26m\n",
      "  26    59.37          7.34249       66          2.20527              N/A    114.25m\n",
      "  27    61.71          8.19607       60          2.20525              N/A     84.50m\n",
      "  28    64.90           10.151       60          2.20525              N/A    114.94m\n",
      "  29    62.74          16.9377       68          2.20525              N/A     83.33m\n",
      "  30    58.76           6.0834       60          2.20525              N/A    111.89m\n",
      "  31    58.00           202176       60          2.20525              N/A     80.03m\n",
      "  32    58.22          52596.9       58          2.20527              N/A    116.82m\n",
      "  33    57.97          6.01466       58          2.20527              N/A    104.90m\n",
      "  34    57.79          6.59203       58          2.20527              N/A    131.53m\n",
      "  35    57.86          7.09036       58          2.20527              N/A    129.71m\n",
      "  36    57.53          7.21739       58          2.20527              N/A    125.19m\n",
      "  37    57.91          13.4993       58          2.20527              N/A    125.89m\n",
      "  38    58.54          6.98196       58          2.20527              N/A    126.13m\n",
      "  39    58.19          6.73223       58          2.20527              N/A     96.75m\n",
      "  40    58.56          7.98579       58          2.20527              N/A    118.95m\n",
      "  41    58.19          6.31098       58          2.20527              N/A    115.27m\n",
      "  42    57.44          6.23538       58          2.20527              N/A    115.34m\n",
      "  43    58.06           15.649       58          2.20527              N/A    114.35m\n",
      "  44    57.94           6.7168       66          2.20527              N/A    111.85m\n",
      "  45    58.28           7.6403       58          2.20527              N/A     87.81m\n",
      "  46    57.94          14.8301       58          2.20527              N/A    107.82m\n",
      "  47    58.21          6.34456       75          2.20527              N/A    106.13m\n",
      "  48    58.26          11.2367       58          2.20527              N/A    103.77m\n",
      "  49    57.44          6.22667       58          2.20527              N/A    101.07m\n",
      "  50    57.59          6.02782       58          2.20527              N/A    100.83m\n",
      "  51    57.89          8.57339       58          2.20527              N/A     77.45m\n",
      "  52    57.76          6.29628       58          2.20527              N/A     93.43m\n",
      "  53    57.94          6.41015       58          2.20527              N/A     92.74m\n",
      "  54    58.36          6.31198       58          2.20527              N/A     92.23m\n",
      "  55    58.38          6.54998       58          2.20527              N/A     93.10m\n",
      "  56    57.96          7.03246       58          2.20527              N/A     73.54m\n",
      "  57    58.13          20.8892       58          2.20527              N/A     89.86m\n",
      "  58    58.32            6.962       58          2.18276              N/A     86.86m\n",
      "  59    57.95          6.91094       62          2.18167              N/A     83.85m\n",
      "  60    58.17          6.79278       63          2.17454              N/A     79.98m\n",
      "  61    62.31          19.8203       63          2.17442              N/A     62.04m\n",
      "  62    68.40          5.03149       76          2.17207              N/A     65.87m\n",
      "  63    65.45          3.30138       77          2.17112              N/A     45.87m\n",
      "  64    63.92          3.31271       72          2.16503              N/A     59.17m\n",
      "  65    74.10          4.01483       72          2.16503              N/A     43.48m\n",
      "  66    74.05          3.28351      110          2.16288              N/A     58.55m\n",
      "  67    77.94          3.91046      102          2.15819              N/A     44.90m\n",
      "  68    77.98          3.21737      108          2.15591              N/A     56.70m\n",
      "  69    87.88          3.13156      151          2.15241              N/A     41.56m\n",
      "  70    98.45          3.01852      162          2.15241              N/A     55.60m\n",
      "  71   103.43          423.776      186          2.15088              N/A     44.56m\n",
      "  72   132.41          2.91378      128          2.14228              N/A     57.11m\n",
      "  73   131.65          2.90854      106          2.11894              N/A     47.81m\n",
      "  74   136.64          2.92984      219          2.10946              N/A     59.25m\n",
      "  75   171.22          3.57539      219          2.09081              N/A     60.40m\n",
      "  76   176.53          2.87845      217          2.09012              N/A     61.24m\n",
      "  77   173.24          2.90453      174          2.07983              N/A     53.56m\n"
     ]
    },
    {
     "name": "stderr",
     "output_type": "stream",
     "text": [
      "/home/stamstath96/anaconda3/lib/python3.5/site-packages/joblib/externals/loky/process_executor.py:706: UserWarning: A worker stopped while some jobs were given to the executor. This can be caused by a too short worker timeout or by a memory leak.\n",
      "  \"timeout or by a memory leak.\", UserWarning\n"
     ]
    },
    {
     "name": "stdout",
     "output_type": "stream",
     "text": [
      "  78   218.26          2.80616      176          2.07983              N/A     62.28m\n",
      "  79   209.14          2.85388      161          2.07684              N/A     62.65m\n",
      "  80   196.03          2.88693      155          2.07525              N/A     63.28m\n",
      "  81   170.89           160741      195          2.07335              N/A     59.56m\n",
      "  82   169.34          2.91236      211          2.07073              N/A     51.41m\n",
      "  83   165.73          2.89381      191           2.0706              N/A     40.47m\n",
      "  84   179.20          3.05593      253          2.06957              N/A     41.47m\n",
      "  85   181.92          2.82904      195          2.06907              N/A     41.32m\n",
      "  86   176.55          2.86635      197          2.06901              N/A     37.74m\n",
      "  87   165.42           3.0242      163          2.06862              N/A     35.37m\n",
      "  88   155.98          3.13075      161          2.06857              N/A     30.90m\n",
      "  89   147.19           3.0871      139          2.06816              N/A     22.88m\n",
      "  90   147.92          3.06187      143          2.06761              N/A     24.60m\n",
      "  91   139.57          2.98752      140          2.06743              N/A     21.11m\n",
      "  92   134.48          2.94504      134          2.06712              N/A     17.99m\n",
      "  93   133.03          2.96454      135          2.06694              N/A     15.13m\n",
      "  94   126.91          2.96068      135          2.06692              N/A     10.46m\n",
      "  95   120.70          3.02112      125          2.05889              N/A      9.81m\n",
      "  96   114.14          3.04676      123          2.05874              N/A      7.13m\n",
      "  97   114.50          3.08309      129          2.05684              N/A      4.77m\n",
      "  98   125.63          2.97335      119          2.05226              N/A      1.96m\n",
      "  99   126.86          3.06583      153          2.04898              N/A      0.00s\n",
      "fold 5 2.1074471730846724\n"
     ]
    }
   ],
   "source": [
    "oof_gen, gen_regrs, gen_predictions = createModel(X, y, X_test, top_cols, params=xgb_params,  model_type='genetic')"
   ]
  },
  {
   "cell_type": "code",
   "execution_count": 22,
   "metadata": {},
   "outputs": [],
   "source": [
    "pd.DataFrame(gen_predictions).to_csv(\"gen_preds.csv\")"
   ]
  },
  {
   "cell_type": "code",
   "execution_count": 13,
   "metadata": {},
   "outputs": [
    {
     "data": {
      "text/plain": [
       "array([3.1634503 , 5.12290349, 4.87831656, ..., 4.6917265 , 1.84833649,\n",
       "       9.06817592])"
      ]
     },
     "execution_count": 13,
     "metadata": {},
     "output_type": "execute_result"
    }
   ],
   "source": [
    "gen_predictions = np.array(pd.read_csv(\"gpsubmission.csv\").time_to_failure)\n",
    "gen_predictions"
   ]
  },
  {
   "cell_type": "code",
   "execution_count": 15,
   "metadata": {
    "scrolled": true
   },
   "outputs": [],
   "source": [
    "#oof_sk, sk_regrs, sk_predictions = createModel(X, y, X_test, top_cols, params=xgb_params,  model_type='sklearn')"
   ]
  },
  {
   "cell_type": "code",
   "execution_count": null,
   "metadata": {},
   "outputs": [],
   "source": [
    "params = {'depth':12,\n",
    "          'iterations':50000,\n",
    "          'learning_rate':0.19975149847373147 ,\n",
    "          'l2_leaf_reg':3,\n",
    "          'border_count':12,\n",
    "          'verbose':True,\n",
    "          'thread_count':4}\n",
    "\n",
    "\n",
    "oof_cat, cat_regs, cat_predictions = createModel(X, y, X_test, top_cols, params = params,  model_type='cat')"
   ]
  },
  {
   "cell_type": "code",
   "execution_count": 14,
   "metadata": {},
   "outputs": [
    {
     "ename": "NameError",
     "evalue": "name 'oof_gen' is not defined",
     "output_type": "error",
     "traceback": [
      "\u001b[0;31m---------------------------------------------------------------------------\u001b[0m",
      "\u001b[0;31mNameError\u001b[0m                                 Traceback (most recent call last)",
      "\u001b[0;32m<ipython-input-14-17cfb9130d3f>\u001b[0m in \u001b[0;36m<module>\u001b[0;34m()\u001b[0m\n\u001b[0;32m----> 1\u001b[0;31m \u001b[0mtrain_stack\u001b[0m \u001b[0;34m=\u001b[0m \u001b[0mnp\u001b[0m\u001b[0;34m.\u001b[0m\u001b[0mvstack\u001b[0m\u001b[0;34m(\u001b[0m\u001b[0;34m[\u001b[0m\u001b[0moof_lgb\u001b[0m\u001b[0;34m,\u001b[0m \u001b[0moof_xgb\u001b[0m\u001b[0;34m,\u001b[0m \u001b[0moof_gen\u001b[0m\u001b[0;34m]\u001b[0m\u001b[0;34m)\u001b[0m\u001b[0;34m.\u001b[0m\u001b[0mtranspose\u001b[0m\u001b[0;34m(\u001b[0m\u001b[0;34m)\u001b[0m\u001b[0;34m\u001b[0m\u001b[0m\n\u001b[0m\u001b[1;32m      2\u001b[0m \u001b[0mtrain_stack\u001b[0m \u001b[0;34m=\u001b[0m \u001b[0mpd\u001b[0m\u001b[0;34m.\u001b[0m\u001b[0mDataFrame\u001b[0m\u001b[0;34m(\u001b[0m\u001b[0mtrain_stack\u001b[0m\u001b[0;34m,\u001b[0m \u001b[0mcolumns\u001b[0m \u001b[0;34m=\u001b[0m \u001b[0;34m[\u001b[0m\u001b[0;34m'lgb'\u001b[0m\u001b[0;34m,\u001b[0m \u001b[0;34m'xgb'\u001b[0m\u001b[0;34m,\u001b[0m \u001b[0;34m'gen'\u001b[0m\u001b[0;34m]\u001b[0m\u001b[0;34m)\u001b[0m\u001b[0;34m\u001b[0m\u001b[0m\n\u001b[1;32m      3\u001b[0m \u001b[0mtest_stack\u001b[0m \u001b[0;34m=\u001b[0m \u001b[0mnp\u001b[0m\u001b[0;34m.\u001b[0m\u001b[0mvstack\u001b[0m\u001b[0;34m(\u001b[0m\u001b[0;34m[\u001b[0m\u001b[0mlgb_predictions\u001b[0m\u001b[0;34m,\u001b[0m \u001b[0mxgb_predictions\u001b[0m\u001b[0;34m,\u001b[0m \u001b[0mgen_predictions\u001b[0m\u001b[0;34m]\u001b[0m\u001b[0;34m)\u001b[0m\u001b[0;34m.\u001b[0m\u001b[0mtranspose\u001b[0m\u001b[0;34m(\u001b[0m\u001b[0;34m)\u001b[0m\u001b[0;34m\u001b[0m\u001b[0m\n\u001b[1;32m      4\u001b[0m \u001b[0mtest_stack\u001b[0m \u001b[0;34m=\u001b[0m \u001b[0mpd\u001b[0m\u001b[0;34m.\u001b[0m\u001b[0mDataFrame\u001b[0m\u001b[0;34m(\u001b[0m\u001b[0mtest_stack\u001b[0m\u001b[0;34m)\u001b[0m\u001b[0;34m\u001b[0m\u001b[0m\n",
      "\u001b[0;31mNameError\u001b[0m: name 'oof_gen' is not defined"
     ]
    }
   ],
   "source": [
    "train_stack = np.vstack([oof_lgb, oof_xgb, oof_gen]).transpose()\n",
    "train_stack = pd.DataFrame(train_stack, columns = ['lgb', 'xgb', 'gen'])\n",
    "test_stack = np.vstack([lgb_predictions, xgb_predictions, gen_predictions]).transpose()\n",
    "test_stack = pd.DataFrame(test_stack)"
   ]
  },
  {
   "cell_type": "code",
   "execution_count": 12,
   "metadata": {},
   "outputs": [
    {
     "data": {
      "text/html": [
       "<div>\n",
       "<style scoped>\n",
       "    .dataframe tbody tr th:only-of-type {\n",
       "        vertical-align: middle;\n",
       "    }\n",
       "\n",
       "    .dataframe tbody tr th {\n",
       "        vertical-align: top;\n",
       "    }\n",
       "\n",
       "    .dataframe thead th {\n",
       "        text-align: right;\n",
       "    }\n",
       "</style>\n",
       "<table border=\"1\" class=\"dataframe\">\n",
       "  <thead>\n",
       "    <tr style=\"text-align: right;\">\n",
       "      <th></th>\n",
       "      <th>time_to_failure</th>\n",
       "    </tr>\n",
       "    <tr>\n",
       "      <th>seg_id</th>\n",
       "      <th></th>\n",
       "    </tr>\n",
       "  </thead>\n",
       "  <tbody>\n",
       "    <tr>\n",
       "      <th>seg_00030f</th>\n",
       "      <td>3.483340</td>\n",
       "    </tr>\n",
       "    <tr>\n",
       "      <th>seg_0012b5</th>\n",
       "      <td>5.667366</td>\n",
       "    </tr>\n",
       "    <tr>\n",
       "      <th>seg_00184e</th>\n",
       "      <td>5.668453</td>\n",
       "    </tr>\n",
       "    <tr>\n",
       "      <th>seg_003339</th>\n",
       "      <td>8.535632</td>\n",
       "    </tr>\n",
       "    <tr>\n",
       "      <th>seg_0042cc</th>\n",
       "      <td>6.677124</td>\n",
       "    </tr>\n",
       "  </tbody>\n",
       "</table>\n",
       "</div>"
      ],
      "text/plain": [
       "            time_to_failure\n",
       "seg_id                     \n",
       "seg_00030f         3.483340\n",
       "seg_0012b5         5.667366\n",
       "seg_00184e         5.668453\n",
       "seg_003339         8.535632\n",
       "seg_0042cc         6.677124"
      ]
     },
     "execution_count": 12,
     "metadata": {},
     "output_type": "execute_result"
    }
   ],
   "source": [
    "# Load submission file\n",
    "submission = pd.read_csv('dataset/sample_submission.csv', index_col='seg_id', dtype={\"time_to_failure\": np.float32})\n",
    "submission['time_to_failure'] = (lgb_predictions + xgb_predictions + gen_predictions) / 3\n",
    "# submission['time_to_failure'] = prediction_lgb_stack\n",
    "submission.to_csv('submission.csv')\n",
    "\n",
    "submission.head()"
   ]
  },
  {
   "cell_type": "code",
   "execution_count": null,
   "metadata": {},
   "outputs": [],
   "source": []
  }
 ],
 "metadata": {
  "kernelspec": {
   "display_name": "Python 3",
   "language": "python",
   "name": "python3"
  },
  "language_info": {
   "codemirror_mode": {
    "name": "ipython",
    "version": 3
   },
   "file_extension": ".py",
   "mimetype": "text/x-python",
   "name": "python",
   "nbconvert_exporter": "python",
   "pygments_lexer": "ipython3",
   "version": "3.5.6"
  }
 },
 "nbformat": 4,
 "nbformat_minor": 1
}
