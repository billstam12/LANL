{
 "cells": [
  {
   "cell_type": "code",
   "execution_count": 1,
   "metadata": {
    "collapsed": false
   },
   "outputs": [],
   "source": [
    "import numpy as np\n",
    "import pandas as pd\n",
    "import os\n",
    "import lightgbm as lgb\n",
    "import xgboost as xgb\n",
    "import time\n",
    "from sklearn.kernel_ridge import KernelRidge\n",
    "import datetime\n",
    "from catboost import CatBoostRegressor\n",
    "from sklearn.preprocessing import LabelEncoder, StandardScaler\n",
    "from sklearn.model_selection import StratifiedKFold, KFold, RepeatedKFold\n",
    "from sklearn.metrics import mean_absolute_error\n",
    "from sklearn.svm import NuSVR, SVR\n",
    "%matplotlib inline\n",
    "import matplotlib.pyplot as plt\n",
    "import seaborn as sns"
   ]
  },
  {
   "cell_type": "code",
   "execution_count": 22,
   "metadata": {
    "collapsed": true
   },
   "outputs": [],
   "source": [
    "lgb_params = {\n",
    "          'n_estimators':50000,\n",
    "          'num_leaves': 54,\n",
    "          'min_data_in_leaf': 79,\n",
    "          'objective': 'huber',\n",
    "          'max_depth': -1,\n",
    "          'learning_rate': 0.01,\n",
    "          \"boosting\": \"gbdt\",\n",
    "          \"bagging_freq\": 5,\n",
    "          \"bagging_fraction\": 0.8126672064208567,\n",
    "          \"bagging_seed\": 11,\n",
    "          \"metric\": 'mae',\n",
    "          \"verbosity\": -1,\n",
    "          'reg_alpha': 0.1302650970728192,\n",
    "          'reg_lambda': 0.3603427518866501\n",
    "         }"
   ]
  },
  {
   "cell_type": "code",
   "execution_count": 23,
   "metadata": {
    "collapsed": true
   },
   "outputs": [],
   "source": [
    "n_fold = 5\n",
    "folds = KFold(n_splits=n_fold, shuffle=True, random_state=11)"
   ]
  },
  {
   "cell_type": "code",
   "execution_count": 35,
   "metadata": {
    "collapsed": false
   },
   "outputs": [],
   "source": [
    "def createModel(X, y, X_test, cols, model = [], model_type = 'lgb', params = lgb_params, plot_feature_importance=True, ):       \n",
    "    regrs = []\n",
    "    oof_preds = np.zeros(len(X))\n",
    "    feature_importance = pd.DataFrame()\n",
    "    prediction = np.zeros(len(X_test))\n",
    "\n",
    "    for fold_, (trn_, val_) in enumerate(folds.split(y, y)):\n",
    "        y = y.ravel()\n",
    "        trn_x, trn_y = X[trn_], y[trn_]\n",
    "        val_x, val_y = X[val_], y[val_]\n",
    "        #scaler.fit(trn_x)\n",
    "        #scaler.transform(trn_x)\n",
    "        #scaler.transform(val_x)\n",
    "        fold_importance = pd.DataFrame()\n",
    "        \n",
    "        if model_type == 'lgb':\n",
    "            regr = lgb.LGBMRegressor(**params)\n",
    "            regr.fit(\n",
    "                trn_x, trn_y,\n",
    "                eval_set=[(trn_x, trn_y), (val_x, val_y)],\n",
    "                eval_metric='mae',\n",
    "                verbose=False,\n",
    "                early_stopping_rounds = 200\n",
    "            )\n",
    "            oof_preds[val_] = regr.predict(val_x)\n",
    "            print('fold',fold_+1,mean_absolute_error(val_y, regr.predict(val_x)))\n",
    "            y_pred = regr.predict(X_test, num_iteration=regr.best_iteration_)\n",
    "\n",
    "        if model_type == 'xgb':\n",
    "            train_data = xgb.DMatrix(data=trn_x, label=trn_y, feature_names = cols)\n",
    "            valid_data = xgb.DMatrix(data=val_x, label=val_y, feature_names = cols)\n",
    "            \n",
    "            watchlist = [(train_data, 'train'), (valid_data, 'valid_data')]\n",
    "            regr = xgb.train(dtrain=train_data, num_boost_round=20000, evals=watchlist, early_stopping_rounds=200, verbose_eval=500, params=params)\n",
    "            oof_preds[val_] = regr.predict(xgb.DMatrix(val_x, feature_names = cols), ntree_limit=regr.best_ntree_limit)\n",
    "            print('fold',fold_+1,mean_absolute_error(val_y, regr.predict(xgb.DMatrix(val_x, feature_names = cols), ntree_limit=regr.best_ntree_limit)))\n",
    "            y_pred = regr.predict(xgb.DMatrix(X_test, feature_names = cols), ntree_limit=regr.best_ntree_limit)\n",
    "\n",
    "        if model_type == 'sklearn':\n",
    "            regr = model\n",
    "            regr.fit(trn_x, trn_y)\n",
    "            \n",
    "            oof_preds[val_] = regr.predict(val_x).reshape(-1,)\n",
    "            print('fold',fold_+1,mean_absolute_error(val_y, regr.predict(val_x).reshape(-1,)))\n",
    "            y_pred = regr.predict(X_test).reshape(-1,)\n",
    "        \n",
    "        if model_type == 'cat':\n",
    "            regr = CatBoostRegressor(iterations=20000,  eval_metric='MAE', **params)\n",
    "            regr.fit(trn_x, trn_y, eval_set=(val_x, val_y), cat_features=[], use_best_model=True, verbose=False)\n",
    "\n",
    "            oof_preds[val_] = regr.predict(val_x)\n",
    "            print('fold',fold_+1,mean_absolute_error(val_y, regr.predict(val_x)))\n",
    "            y_pred = regr.predict(X_test)\n",
    "\n",
    "        \n",
    "        if model_type == 'lgb':        \n",
    "            fold_importance[\"feature\"] = cols\n",
    "            fold_importance[\"importance\"] = regr.feature_importances_\n",
    "            fold_importance[\"fold\"] = fold_ + 1\n",
    "            feature_importance = pd.concat([feature_importance, fold_importance], axis=0)\n",
    "\n",
    "\n",
    "        regrs.append(regr)\n",
    "        prediction += y_pred\n",
    "    loss = mean_absolute_error(y, oof_preds)\n",
    "    if ((model_type == 'lgb') & (plot_feature_importance == True)):\n",
    "        feature_importance[\"importance\"] /= n_fold\n",
    "        cols = feature_importance[[\"feature\", \"importance\"]].groupby(\"feature\").mean().sort_values(\n",
    "                by=\"importance\", ascending=False)[:50].index\n",
    "\n",
    "        best_features = feature_importance.loc[feature_importance.feature.isin(cols)]\n",
    "\n",
    "        plt.figure(figsize=(16, 12));\n",
    "        sns.barplot(x=\"importance\", y=\"feature\", data=best_features.sort_values(by=\"importance\", ascending=False));\n",
    "        plt.title('LGB Features (avg over folds)');\n",
    "        \n",
    "        return loss, regrs, feature_importance, prediction\n",
    "    prediction /= n_fold\n",
    "    return loss, regrs, prediction"
   ]
  },
  {
   "cell_type": "code",
   "execution_count": 34,
   "metadata": {
    "collapsed": false
   },
   "outputs": [
    {
     "name": "stdout",
     "output_type": "stream",
     "text": [
      "[   0    3    4 ... 8385 8386 8387] [   1    2    5 ... 8372 8375 8380]\n",
      "fold 1 2.028680655986423\n",
      "[   0    1    2 ... 8380 8383 8387] [   6    8   11 ... 8384 8385 8386]\n",
      "fold 2 1.9518522626122925\n",
      "[   0    1    2 ... 8384 8385 8386] [   3   12   16 ... 8377 8383 8387]\n",
      "fold 3 1.9916870213590347\n",
      "[   0    1    2 ... 8385 8386 8387] [  13   20   24 ... 8361 8370 8378]\n",
      "fold 4 1.9097347449700384\n",
      "[   1    2    3 ... 8385 8386 8387] [   0    4    7 ... 8366 8367 8369]\n",
      "fold 5 1.9769734758344026\n"
     ]
    },
    {
     "data": {
      "image/png": "[encoded data removed]",
      "text/plain": [
       "<matplotlib.figure.Figure at 0x7f37300fd240>"
      ]
     },
     "metadata": {},
     "output_type": "display_data"
    }
   ],
   "source": [
    "X_df = pd.read_csv(\"dataset/features.csv\").drop(\"Unnamed: 0\", axis = 1).replace([np.inf, -np.inf], np.nan)\n",
    "y_df = pd.read_csv(\"dataset/targets.csv\").drop(\"Unnamed: 0\", axis = 1)\n",
    "X_test_df = pd.read_csv(\"dataset/test_features.csv\").drop(\"Unnamed: 0\", axis = 1).replace([np.inf, -np.inf], np.nan)\n",
    "X = X_df.fillna(X_df.mean()).values\n",
    "y = y_df.fillna(y_df.mean()).values\n",
    "X_test = X_test_df.fillna(X_df.mean()).values\n",
    "oof_lgb, regrs, feature_importance, prediction = createModel(X, y, X_test, X_df.columns)\n"
   ]
  },
  {
   "cell_type": "code",
   "execution_count": 36,
   "metadata": {
    "collapsed": false
   },
   "outputs": [],
   "source": [
    "scaler = StandardScaler()\n",
    "scaler.fit(X_df)\n",
    "X_train_scaled = pd.DataFrame(scaler.transform(X_df), columns=X_df.columns)\n",
    "X_test_scaled = pd.DataFrame(scaler.transform(X_test_df), columns = X_test_df.columns)\n",
    "top_cols = X_df.columns"
   ]
  },
  {
   "cell_type": "code",
   "execution_count": 37,
   "metadata": {
    "collapsed": false
   },
   "outputs": [
    {
     "data": {
      "text/plain": [
       "['min_roll_std_100',\n",
       " 'q05_roll_std_100',\n",
       " 'min_roll_std_10',\n",
       " 'min_roll_std_1000',\n",
       " 'skew',\n",
       " 'q05_roll_std_1000',\n",
       " 'max_roll_mean_1000',\n",
       " 'q05_roll_std_10',\n",
       " 'av_change_abs_roll_mean_10',\n",
       " 'std_roll_mean_1000',\n",
       " 'av_change_abs_roll_std_10',\n",
       " 'max_to_min',\n",
       " 'av_change_abs_roll_mean_100',\n",
       " 'av_change_abs_roll_std_100',\n",
       " 'min_roll_mean_100',\n",
       " 'classic_sta_lta4_mean',\n",
       " 'mean_change_rate_first_10000',\n",
       " 'classic_sta_lta3_mean',\n",
       " 'classic_sta_lta1_mean',\n",
       " 'std_roll_mean_100',\n",
       " 'max_roll_mean_100',\n",
       " 'min_roll_mean_1000',\n",
       " 'av_change_abs_roll_std_1000',\n",
       " 'av_change_abs_roll_mean_1000',\n",
       " 'q01_roll_std_1000',\n",
       " 'avg_first_10000',\n",
       " 'mean_change_rate_last_10000',\n",
       " 'classic_sta_lta5_mean',\n",
       " 'classic_sta_lta6_mean',\n",
       " 'avg_last_10000',\n",
       " 'trend',\n",
       " 'max_to_min_diff',\n",
       " 'q99_roll_mean_1000',\n",
       " 'q99_roll_std_1000',\n",
       " 'q01_roll_std_10',\n",
       " 'std_last_10000',\n",
       " 'classic_sta_lta7_mean',\n",
       " 'classic_sta_lta8_mean',\n",
       " 'q01_roll_mean_1000',\n",
       " 'classic_sta_lta2_mean',\n",
       " 'mean_change_rate',\n",
       " 'std_first_10000',\n",
       " 'mean_change_rate_first_50000',\n",
       " 'q01_roll_std_100',\n",
       " 'max_roll_std_100',\n",
       " 'min_first_50000',\n",
       " 'max_roll_std_1000',\n",
       " 'mean_change_rate_last_50000',\n",
       " 'abs_trend',\n",
       " 'max_first_50000']"
      ]
     },
     "execution_count": 37,
     "metadata": {},
     "output_type": "execute_result"
    }
   ],
   "source": [
    "top_cols = list(feature_importance[[\"feature\", \"importance\"]].groupby(\"feature\").mean().sort_values(\n",
    "                by=\"importance\", ascending=False)[:50].index)\n",
    "top_cols "
   ]
  },
  {
   "cell_type": "code",
   "execution_count": 39,
   "metadata": {
    "collapsed": false
   },
   "outputs": [
    {
     "name": "stdout",
     "output_type": "stream",
     "text": [
      "fold 1 2.0292598398903263\n",
      "fold 2 1.949235772490528\n",
      "fold 3 2.002178535537505\n",
      "fold 4 1.9097194296392668\n",
      "fold 5 1.9794772252237343\n"
     ]
    }
   ],
   "source": [
    "X_df = X_train_scaled\n",
    "X_df = X_df[top_cols]\n",
    "X_test_df = X_test_scaled[top_cols]\n",
    "y_df = pd.read_csv(\"dataset/targets.csv\").drop(\"Unnamed: 0\", axis = 1).dropna()\n",
    "\n",
    "X = X_df.fillna(X_df.mean()).values\n",
    "y = y_df.fillna(y_df.mean()).values\n",
    "X_test =  X_test_df.fillna(X_df.mean()).values\n",
    "oof_lgb, lgb_regrs, lgb_predictions = createModel(X, y, X_test, X_df.columns, plot_feature_importance=False)\n"
   ]
  },
  {
   "cell_type": "code",
   "execution_count": 10,
   "metadata": {
    "collapsed": false
   },
   "outputs": [
    {
     "data": {
      "text/plain": [
       "array([2.41141859, 5.61197613, 6.07685136, ..., 3.59501788, 1.73599921,\n",
       "       8.73528396])"
      ]
     },
     "execution_count": 10,
     "metadata": {},
     "output_type": "execute_result"
    }
   ],
   "source": [
    "lgb_predictions"
   ]
  },
  {
   "cell_type": "code",
   "execution_count": 11,
   "metadata": {
    "collapsed": false
   },
   "outputs": [
    {
     "name": "stdout",
     "output_type": "stream",
     "text": [
      "[0]\ttrain-mae:5.03398\tvalid_data-mae:5.17894\n",
      "Multiple eval metrics have been passed: 'valid_data-mae' will be used for early stopping.\n",
      "\n",
      "Will train until valid_data-mae hasn't improved in 200 rounds.\n",
      "Stopping. Best iteration:\n",
      "[102]\ttrain-mae:0.671536\tvalid_data-mae:2.14677\n",
      "\n",
      "fold 1 2.1467669647675125\n",
      "[0]\ttrain-mae:5.06087\tvalid_data-mae:5.0738\n",
      "Multiple eval metrics have been passed: 'valid_data-mae' will be used for early stopping.\n",
      "\n",
      "Will train until valid_data-mae hasn't improved in 200 rounds.\n",
      "Stopping. Best iteration:\n",
      "[101]\ttrain-mae:0.650333\tvalid_data-mae:2.05251\n",
      "\n",
      "fold 2 2.0525092920783585\n",
      "[0]\ttrain-mae:5.05365\tvalid_data-mae:5.09728\n",
      "Multiple eval metrics have been passed: 'valid_data-mae' will be used for early stopping.\n",
      "\n",
      "Will train until valid_data-mae hasn't improved in 200 rounds.\n",
      "Stopping. Best iteration:\n",
      "[136]\ttrain-mae:0.466587\tvalid_data-mae:2.15038\n",
      "\n",
      "fold 3 2.150380766905372\n",
      "[0]\ttrain-mae:5.1006\tvalid_data-mae:4.90802\n",
      "Multiple eval metrics have been passed: 'valid_data-mae' will be used for early stopping.\n",
      "\n",
      "Will train until valid_data-mae hasn't improved in 200 rounds.\n",
      "Stopping. Best iteration:\n",
      "[109]\ttrain-mae:0.582752\tvalid_data-mae:1.99721\n",
      "\n",
      "fold 4 1.9972144446502285\n",
      "[0]\ttrain-mae:5.05572\tvalid_data-mae:5.08883\n",
      "Multiple eval metrics have been passed: 'valid_data-mae' will be used for early stopping.\n",
      "\n",
      "Will train until valid_data-mae hasn't improved in 200 rounds.\n",
      "Stopping. Best iteration:\n",
      "[99]\ttrain-mae:0.629752\tvalid_data-mae:2.10743\n",
      "\n",
      "fold 5 2.107432921126621\n"
     ]
    }
   ],
   "source": [
    "xgb_params = {'eta': 0.03,\n",
    "              'max_depth': 10,\n",
    "              'subsample': 0.9,\n",
    "              'objective': 'reg:linear',\n",
    "              'eval_metric': 'mae',\n",
    "              'silent': True,\n",
    "              'nthread': 4}\n",
    "oof_xgb, xgb_regrs, xgb_predictions = createModel(X, y, X_test, top_cols, params=xgb_params,  model_type='xgb')"
   ]
  },
  {
   "cell_type": "code",
   "execution_count": 40,
   "metadata": {
    "collapsed": false
   },
   "outputs": [
    {
     "name": "stdout",
     "output_type": "stream",
     "text": [
      "fold 1 2.123534651060919\n",
      "fold 2 2.060425910611998\n",
      "fold 3 2.104296980927918\n",
      "fold 4 2.0194084211493064\n",
      "fold 5 2.0821534655247995\n"
     ]
    }
   ],
   "source": [
    "model = NuSVR(gamma='scale', nu=0.9, C=10.0, tol=0.01)\n",
    "oof_svr1, svr1_regrs, sv1_predictions = createModel(X, y, X_test, top_cols, model, params = None,  model_type='sklearn')"
   ]
  },
  {
   "cell_type": "code",
   "execution_count": 41,
   "metadata": {
    "collapsed": false
   },
   "outputs": [
    {
     "name": "stdout",
     "output_type": "stream",
     "text": [
      "fold 1 2.083155585921979\n",
      "fold 2 2.0238855982347492\n",
      "fold 3 2.0676476388600014\n",
      "fold 4 1.9787311362292956\n",
      "fold 5 2.054565969853448\n"
     ]
    }
   ],
   "source": [
    "model = NuSVR(gamma='scale', nu=0.7, tol=0.01, C=1.0)\n",
    "oof_svr2, svr2_regrs, sv2_predictions = createModel(X, y, X_test, top_cols, model, params = None,  model_type='sklearn')"
   ]
  },
  {
   "cell_type": "code",
   "execution_count": 42,
   "metadata": {
    "collapsed": false
   },
   "outputs": [
    {
     "name": "stdout",
     "output_type": "stream",
     "text": [
      "fold 1 2.091726986407239\n",
      "fold 2 2.040057224051981\n",
      "fold 3 2.0902082637766317\n",
      "fold 4 2.002795170162773\n",
      "fold 5 2.089113587750235\n"
     ]
    }
   ],
   "source": [
    "model = KernelRidge(kernel='rbf', alpha=0.15, gamma=0.01)\n",
    "oof_rbf, kr_regrs, kr_predictions = createModel(X, y, X_test, top_cols, model, params = None,  model_type='sklearn')"
   ]
  },
  {
   "cell_type": "code",
   "execution_count": null,
   "metadata": {
    "collapsed": false
   },
   "outputs": [],
   "source": [
    "params = {'loss_function':'MAE'}\n",
    "oof_cat, cat_regs, cat_predictions = createModel(X, y, X_test, top_cols, model, params = params,  model_type='cat')"
   ]
  },
  {
   "cell_type": "code",
   "execution_count": 16,
   "metadata": {
    "collapsed": false
   },
   "outputs": [],
   "source": [
    "train_stack = np.vstack([oof_lgb, oof_xgb, oof_svr1, oof_svr2, oof_rbf, oof_cat]).transpose()\n",
    "train_stack = pd.DataFrame(train_stack, columns = ['lgb', 'xgb', 'svr1', 'svr2', 'rbf', 'cat'])\n",
    "test_stack = np.vstack([lgb_predictions, xgb_predictions, sv1_predictions, sv2_predictions, kr_predictions, cat_predictions]).transpose()\n",
    "test_stack = pd.DataFrame(test_stack)"
   ]
  },
  {
   "cell_type": "code",
   "execution_count": 17,
   "metadata": {
    "collapsed": false
   },
   "outputs": [
    {
     "data": {
      "text/html": [
       "<div>\n",
       "<style scoped>\n",
       "    .dataframe tbody tr th:only-of-type {\n",
       "        vertical-align: middle;\n",
       "    }\n",
       "\n",
       "    .dataframe tbody tr th {\n",
       "        vertical-align: top;\n",
       "    }\n",
       "\n",
       "    .dataframe thead th {\n",
       "        text-align: right;\n",
       "    }\n",
       "</style>\n",
       "<table border=\"1\" class=\"dataframe\">\n",
       "  <thead>\n",
       "    <tr style=\"text-align: right;\">\n",
       "      <th></th>\n",
       "      <th>time_to_failure</th>\n",
       "    </tr>\n",
       "    <tr>\n",
       "      <th>seg_id</th>\n",
       "      <th></th>\n",
       "    </tr>\n",
       "  </thead>\n",
       "  <tbody>\n",
       "    <tr>\n",
       "      <th>seg_00030f</th>\n",
       "      <td>2.719844</td>\n",
       "    </tr>\n",
       "    <tr>\n",
       "      <th>seg_0012b5</th>\n",
       "      <td>5.943235</td>\n",
       "    </tr>\n",
       "    <tr>\n",
       "      <th>seg_00184e</th>\n",
       "      <td>5.636822</td>\n",
       "    </tr>\n",
       "    <tr>\n",
       "      <th>seg_003339</th>\n",
       "      <td>8.304973</td>\n",
       "    </tr>\n",
       "    <tr>\n",
       "      <th>seg_0042cc</th>\n",
       "      <td>6.504095</td>\n",
       "    </tr>\n",
       "  </tbody>\n",
       "</table>\n",
       "</div>"
      ],
      "text/plain": [
       "            time_to_failure\n",
       "seg_id                     \n",
       "seg_00030f         2.719844\n",
       "seg_0012b5         5.943235\n",
       "seg_00184e         5.636822\n",
       "seg_003339         8.304973\n",
       "seg_0042cc         6.504095"
      ]
     },
     "execution_count": 17,
     "metadata": {},
     "output_type": "execute_result"
    }
   ],
   "source": [
    "# Load submission file\n",
    "submission = pd.read_csv('dataset/sample_submission.csv', index_col='seg_id', dtype={\"time_to_failure\": np.float32})\n",
    "\n",
    "submission['time_to_failure'] = (lgb_predictions + xgb_predictions + sv1_predictions + sv2_predictions + cat_predictions + kr_predictions) / 6\n",
    "# submission['time_to_failure'] = prediction_lgb_stack\n",
    "submission.to_csv('submission.csv')\n",
    "\n",
    "submission.head()"
   ]
  },
  {
   "cell_type": "code",
   "execution_count": null,
   "metadata": {
    "collapsed": true
   },
   "outputs": [],
   "source": []
  }
 ],
 "metadata": {
  "kernelspec": {
   "display_name": "Python 3",
   "language": "python",
   "name": "python3"
  },
  "language_info": {
   "codemirror_mode": {
    "name": "ipython",
    "version": 3
   },
   "file_extension": ".py",
   "mimetype": "text/x-python",
   "name": "python",
   "nbconvert_exporter": "python",
   "pygments_lexer": "ipython3",
   "version": "3.5.1"
  }
 },
 "nbformat": 4,
 "nbformat_minor": 0
}
