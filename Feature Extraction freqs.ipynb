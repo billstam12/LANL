{
 "cells": [
  {
   "cell_type": "code",
   "execution_count": 1,
   "metadata": {
    "collapsed": false
   },
   "outputs": [
    {
     "data": {
      "text/plain": [
       "{'divide': 'warn', 'invalid': 'warn', 'over': 'warn', 'under': 'ignore'}"
      ]
     },
     "execution_count": 1,
     "metadata": {},
     "output_type": "execute_result"
    }
   ],
   "source": [
    "import numpy as np\n",
    "import pandas as pd\n",
    "import os\n",
    "from tqdm import tqdm_notebook\n",
    "from scipy.signal import hilbert\n",
    "from scipy.signal import hann\n",
    "from scipy.signal import convolve\n",
    "from scipy import stats\n",
    "from sklearn.kernel_ridge import KernelRidge\n",
    "from sklearn.linear_model import LinearRegression\n",
    "import os\n",
    "import glob\n",
    "import gc\n",
    "np.seterr(divide='ignore', invalid='ignore')\n"
   ]
  },
  {
   "cell_type": "code",
   "execution_count": 2,
   "metadata": {
    "collapsed": false
   },
   "outputs": [
    {
     "data": {
      "text/plain": [
       "'/home/stamstath96/LANL/dataset/train_freq'"
      ]
     },
     "execution_count": 2,
     "metadata": {},
     "output_type": "execute_result"
    }
   ],
   "source": [
    "os.chdir(\"dataset/train_freq\")\n",
    "os.getcwd()"
   ]
  },
  {
   "cell_type": "code",
   "execution_count": 7,
   "metadata": {
    "collapsed": false
   },
   "outputs": [
    {
     "data": {
      "text/plain": [
       "['acoustic_data',\n",
       " 'time_to_failure',\n",
       " 'Freq_1',\n",
       " 'Freq_2',\n",
       " 'Freq_3',\n",
       " 'Freq_4',\n",
       " 'Freq_5',\n",
       " 'Freq_periodic',\n",
       " 'Amps_periodic',\n",
       " 'Segment',\n",
       " 'Freq_MinMax']"
      ]
     },
     "execution_count": 7,
     "metadata": {},
     "output_type": "execute_result"
    }
   ],
   "source": [
    "cols =['acoustic_data', 'time_to_failure', 'Freq_1', 'Freq_2', 'Freq_3', 'Freq_4', 'Freq_5', 'Freq_periodic',\n",
    "'Amps_periodic', 'Segment','Freq_MinMax']\n",
    "cols"
   ]
  },
  {
   "cell_type": "code",
   "execution_count": 8,
   "metadata": {
    "collapsed": false
   },
   "outputs": [],
   "source": [
    "hdf_path = 'final_train.h5'\n",
    "files = [\"features_freqs_0.csv\", \"features_freqs_1.csv\"]\n",
    "with pd.HDFStore(hdf_path, mode='w', complevel=5, complib='blosc') as store:\n",
    "    # This compresses the final file by 5 using blosc. You can avoid that or\n",
    "    # change it as per your needs.\n",
    "    for filename in files:\n",
    "        store.append('table_name', pd.read_csv(filename, sep=','), index=False)\n",
    "    # Then create the indexes, if you need it\n",
    "    store.create_table_index('table_name', columns=cols, optlevel=9, kind='full')"
   ]
  },
  {
   "cell_type": "code",
   "execution_count": null,
   "metadata": {
    "collapsed": false
   },
   "outputs": [],
   "source": [
    "count = 0\n",
    "for i in pd.read_hdf('final_train.h5', chunksize = 150000):\n",
    "    count+=1\n",
    "count"
   ]
  },
  {
   "cell_type": "code",
   "execution_count": null,
   "metadata": {
    "collapsed": true
   },
   "outputs": [],
   "source": []
  }
 ],
 "metadata": {
  "kernelspec": {
   "display_name": "Python 3",
   "language": "python",
   "name": "python3"
  },
  "language_info": {
   "codemirror_mode": {
    "name": "ipython",
    "version": 3
   },
   "file_extension": ".py",
   "mimetype": "text/x-python",
   "name": "python",
   "nbconvert_exporter": "python",
   "pygments_lexer": "ipython3",
   "version": "3.5.1"
  }
 },
 "nbformat": 4,
 "nbformat_minor": 0
}
